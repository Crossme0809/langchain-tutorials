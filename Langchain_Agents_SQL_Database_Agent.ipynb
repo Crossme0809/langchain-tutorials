{
  "nbformat": 4,
  "nbformat_minor": 0,
  "metadata": {
    "colab": {
      "provenance": [],
      "include_colab_link": true
    },
    "kernelspec": {
      "name": "python3",
      "display_name": "Python 3"
    },
    "language_info": {
      "name": "python"
    }
  },
  "cells": [
    {
      "cell_type": "markdown",
      "metadata": {
        "id": "view-in-github",
        "colab_type": "text"
      },
      "source": [
        "<a href=\"https://colab.research.google.com/github/Crossme0809/langchain-tutorials/blob/main/Langchain_Agents_SQL_Database_Agent.ipynb\" target=\"_parent\"><img src=\"https://colab.research.google.com/assets/colab-badge.svg\" alt=\"Open In Colab\"/></a>"
      ]
    },
    {
      "cell_type": "code",
      "source": [
        "!pip install  langchain openai pymysql --upgrade -q"
      ],
      "metadata": {
        "id": "01A-AWhxPka9",
        "colab": {
          "base_uri": "https://localhost:8080/"
        },
        "outputId": "41670f21-4f58-401c-a8bb-b29ae769e6a3"
      },
      "execution_count": 1,
      "outputs": [
        {
          "output_type": "stream",
          "name": "stdout",
          "text": [
            "\u001b[2K     \u001b[90m━━━━━━━━━━━━━━━━━━━━━━━━━━━━━━━━━━━━━━━━\u001b[0m \u001b[32m1.0/1.0 MB\u001b[0m \u001b[31m21.0 MB/s\u001b[0m eta \u001b[36m0:00:00\u001b[0m\n",
            "\u001b[2K     \u001b[90m━━━━━━━━━━━━━━━━━━━━━━━━━━━━━━━━━━━━━━━━\u001b[0m \u001b[32m73.6/73.6 kB\u001b[0m \u001b[31m7.7 MB/s\u001b[0m eta \u001b[36m0:00:00\u001b[0m\n",
            "\u001b[2K     \u001b[90m━━━━━━━━━━━━━━━━━━━━━━━━━━━━━━━━━━━━━━━━\u001b[0m \u001b[32m43.7/43.7 kB\u001b[0m \u001b[31m4.6 MB/s\u001b[0m eta \u001b[36m0:00:00\u001b[0m\n",
            "\u001b[2K     \u001b[90m━━━━━━━━━━━━━━━━━━━━━━━━━━━━━━━━━━━━━━━━\u001b[0m \u001b[32m1.0/1.0 MB\u001b[0m \u001b[31m73.8 MB/s\u001b[0m eta \u001b[36m0:00:00\u001b[0m\n",
            "\u001b[2K     \u001b[90m━━━━━━━━━━━━━━━━━━━━━━━━━━━━━━━━━━━━━━━━\u001b[0m \u001b[32m90.0/90.0 kB\u001b[0m \u001b[31m10.3 MB/s\u001b[0m eta \u001b[36m0:00:00\u001b[0m\n",
            "\u001b[2K     \u001b[90m━━━━━━━━━━━━━━━━━━━━━━━━━━━━━━━━━━━━━━\u001b[0m \u001b[32m114.5/114.5 kB\u001b[0m \u001b[31m15.1 MB/s\u001b[0m eta \u001b[36m0:00:00\u001b[0m\n",
            "\u001b[2K     \u001b[90m━━━━━━━━━━━━━━━━━━━━━━━━━━━━━━━━━━━━━━\u001b[0m \u001b[32m268.8/268.8 kB\u001b[0m \u001b[31m29.0 MB/s\u001b[0m eta \u001b[36m0:00:00\u001b[0m\n",
            "\u001b[2K     \u001b[90m━━━━━━━━━━━━━━━━━━━━━━━━━━━━━━━━━━━━━━\u001b[0m \u001b[32m149.6/149.6 kB\u001b[0m \u001b[31m18.1 MB/s\u001b[0m eta \u001b[36m0:00:00\u001b[0m\n",
            "\u001b[2K     \u001b[90m━━━━━━━━━━━━━━━━━━━━━━━━━━━━━━━━━━━━━━━━\u001b[0m \u001b[32m49.1/49.1 kB\u001b[0m \u001b[31m5.3 MB/s\u001b[0m eta \u001b[36m0:00:00\u001b[0m\n",
            "\u001b[?25h"
          ]
        }
      ]
    },
    {
      "cell_type": "markdown",
      "source": [
        "##Agents"
      ],
      "metadata": {
        "id": "JWDoW0HUhfxL"
      }
    },
    {
      "cell_type": "markdown",
      "source": [
        "https://python.langchain.com/en/latest/modules/agents/getting_started.html\n",
        "\n"
      ],
      "metadata": {
        "id": "rrH3mfgchyyT"
      }
    },
    {
      "cell_type": "code",
      "source": [
        "import os\n",
        "os.environ['OPENAI_API_KEY'] = \"your_openai_api_key\"\n",
        "os.environ[\"SERPAPI_API_KEY\"] = \"your_serpapi_api_key\""
      ],
      "metadata": {
        "id": "KHHo_6htR1GA"
      },
      "execution_count": 7,
      "outputs": []
    },
    {
      "cell_type": "code",
      "source": [
        "!pip install google-search-results -q"
      ],
      "metadata": {
        "id": "_brJP_HbhW3K",
        "colab": {
          "base_uri": "https://localhost:8080/"
        },
        "outputId": "b5eb21ee-ea90-4881-dfb1-e6d73634f1e2"
      },
      "execution_count": 3,
      "outputs": [
        {
          "output_type": "stream",
          "name": "stdout",
          "text": [
            "  Preparing metadata (setup.py) ... \u001b[?25l\u001b[?25hdone\n",
            "  Building wheel for google-search-results (setup.py) ... \u001b[?25l\u001b[?25hdone\n"
          ]
        }
      ]
    },
    {
      "cell_type": "markdown",
      "source": [
        "https://python.langchain.com/en/latest/modules/agents/agents/agent_types.html"
      ],
      "metadata": {
        "id": "7PLCAVpKj2eU"
      }
    },
    {
      "cell_type": "code",
      "source": [
        "from langchain.agents import load_tools\n",
        "from langchain.agents import initialize_agent\n",
        "from langchain.agents import AgentType\n",
        "from langchain.llms import OpenAI"
      ],
      "metadata": {
        "id": "66hNmNKMhd5n"
      },
      "execution_count": 9,
      "outputs": []
    },
    {
      "cell_type": "code",
      "source": [
        "llm = OpenAI(temperature=0)\n",
        "tools = load_tools([\"serpapi\", \"llm-math\"], llm=llm)"
      ],
      "metadata": {
        "id": "CZVJLedJhj9A"
      },
      "execution_count": 10,
      "outputs": []
    },
    {
      "cell_type": "code",
      "source": [
        "agent = initialize_agent(tools, llm, agent=AgentType.ZERO_SHOT_REACT_DESCRIPTION)\n",
        "agent.run(\" OpenAI的老板是谁，他的年龄的0.5次方是多少？\")"
      ],
      "metadata": {
        "colab": {
          "base_uri": "https://localhost:8080/",
          "height": 35
        },
        "id": "3z_hnwRQkHlN",
        "outputId": "dbbe793f-1201-4186-a5ac-0640c71e49c0"
      },
      "execution_count": 13,
      "outputs": [
        {
          "output_type": "execute_result",
          "data": {
            "text/plain": [
              "'6.164414002968976'"
            ],
            "application/vnd.google.colaboratory.intrinsic+json": {
              "type": "string"
            }
          },
          "metadata": {},
          "execution_count": 13
        }
      ]
    },
    {
      "cell_type": "code",
      "source": [
        "agent = initialize_agent(tools, llm, agent=AgentType.ZERO_SHOT_REACT_DESCRIPTION, verbose=True)\n",
        "agent.run(\"OpenAI的老板是谁，他的年龄的0.5次方是多少？\")"
      ],
      "metadata": {
        "colab": {
          "base_uri": "https://localhost:8080/",
          "height": 375
        },
        "id": "Z1obLhbZkR05",
        "outputId": "06a4b6bc-8c4e-43eb-bbbe-e84c022d41ae"
      },
      "execution_count": 14,
      "outputs": [
        {
          "output_type": "stream",
          "name": "stdout",
          "text": [
            "\n",
            "\n",
            "\u001b[1m> Entering new AgentExecutor chain...\u001b[0m\n",
            "\u001b[32;1m\u001b[1;3m I need to find out who the CEO of OpenAI is and then calculate their age to the power of 0.5.\n",
            "Action: Search\n",
            "Action Input: \"OpenAI CEO\"\u001b[0m\n",
            "Observation: \u001b[36;1m\u001b[1;3mSam Altman, the CEO of ChatGPT maker OpenAI, used a high-profile trip to South Korea on Friday to call for coordinated international ...\u001b[0m\n",
            "Thought:\u001b[32;1m\u001b[1;3m I need to find out the age of the CEO\n",
            "Action: Search\n",
            "Action Input: \"Sam Altman age\"\u001b[0m\n",
            "Observation: \u001b[36;1m\u001b[1;3m38 years\u001b[0m\n",
            "Thought:\u001b[32;1m\u001b[1;3m I now know the age of the CEO and need to calculate it to the power of 0.5\n",
            "Action: Calculator\n",
            "Action Input: 38^0.5\u001b[0m\n",
            "Observation: \u001b[33;1m\u001b[1;3mAnswer: 6.164414002968976\u001b[0m\n",
            "Thought:\u001b[32;1m\u001b[1;3m I now know the final answer\n",
            "Final Answer: 6.164414002968976\u001b[0m\n",
            "\n",
            "\u001b[1m> Finished chain.\u001b[0m\n"
          ]
        },
        {
          "output_type": "execute_result",
          "data": {
            "text/plain": [
              "'6.164414002968976'"
            ],
            "application/vnd.google.colaboratory.intrinsic+json": {
              "type": "string"
            }
          },
          "metadata": {},
          "execution_count": 14
        }
      ]
    },
    {
      "cell_type": "markdown",
      "source": [
        "https://python.langchain.com/en/latest/modules/agents/toolkits/examples/sql_database.html"
      ],
      "metadata": {
        "id": "_2VxCUB2h7Gl"
      }
    },
    {
      "cell_type": "code",
      "execution_count": null,
      "metadata": {
        "id": "-ewK38IAPhsU"
      },
      "outputs": [],
      "source": [
        "from langchain.agents import create_sql_agent\n",
        "from langchain.agents.agent_toolkits import SQLDatabaseToolkit\n",
        "from langchain.sql_database import SQLDatabase\n",
        "from langchain.llms.openai import OpenAI\n",
        "from langchain.agents import AgentExecutor"
      ]
    },
    {
      "cell_type": "markdown",
      "source": [
        "https://www.mysqltutorial.org/mysql-sample-database.aspx"
      ],
      "metadata": {
        "id": "dhr58gI-Auu_"
      }
    },
    {
      "cell_type": "code",
      "source": [
        "db_user = \"db_user\"\n",
        "db_password = \"db_password\"\n",
        "db_host = \"db_host\"\n",
        "db_name = \"db_name\"\n",
        "db = SQLDatabase.from_uri(f\"mysql+pymysql://{db_user}:{db_password}@{db_host}/{db_name}\")"
      ],
      "metadata": {
        "id": "M8f9qz6GPmO8"
      },
      "execution_count": null,
      "outputs": []
    },
    {
      "cell_type": "code",
      "source": [
        "# llm=OpenAI(temperature=0)\n",
        "from langchain.chat_models import ChatOpenAI\n",
        "llm = ChatOpenAI(model_name=\"gpt-3.5-turbo\")\n",
        "# chat = ChatOpenAI(model_name=\"gpt-4\")"
      ],
      "metadata": {
        "id": "8Ca9LSrpbhFu"
      },
      "execution_count": null,
      "outputs": []
    },
    {
      "cell_type": "code",
      "source": [
        "toolkit = SQLDatabaseToolkit(db=db)\n",
        "\n",
        "agent_executor = create_sql_agent(\n",
        "    llm=llm,\n",
        "    toolkit=toolkit,\n",
        "    verbose=True\n",
        ")"
      ],
      "metadata": {
        "id": "jJJuOzhAP4Ob"
      },
      "execution_count": null,
      "outputs": []
    },
    {
      "cell_type": "markdown",
      "source": [
        "###Describing a table"
      ],
      "metadata": {
        "id": "PZkzmH8ee49i"
      }
    },
    {
      "cell_type": "code",
      "source": [
        "agent_executor.run(\"描述与订单相关的表及其关系\")"
      ],
      "metadata": {
        "colab": {
          "base_uri": "https://localhost:8080/",
          "height": 1000
        },
        "id": "5wyZzuT9BqCf",
        "outputId": "06b6b6c6-55f9-4957-e467-2a0a012dccd0"
      },
      "execution_count": null,
      "outputs": [
        {
          "output_type": "stream",
          "name": "stdout",
          "text": [
            "\n",
            "\n",
            "\u001b[1m> Entering new AgentExecutor chain...\u001b[0m\n",
            "\u001b[32;1m\u001b[1;3mAction: list_tables_sql_db\n",
            "Action Input: \"\"\u001b[0m\n",
            "Observation: \u001b[38;5;200m\u001b[1;3mcustomers, employees, payments, products, productlines, orderdetails, offices, orders\u001b[0m\n",
            "Thought:\u001b[32;1m\u001b[1;3mI should query the orderdetails table to see how it is related to the orders table.\n",
            "Action: schema_sql_db\n",
            "Action Input: \"orders, orderdetails\"\u001b[0m\n",
            "Observation: \u001b[33;1m\u001b[1;3m\n",
            "CREATE TABLE orders (\n",
            "\t`orderNumber` INTEGER NOT NULL, \n",
            "\t`orderDate` DATE NOT NULL, \n",
            "\t`requiredDate` DATE NOT NULL, \n",
            "\t`shippedDate` DATE, \n",
            "\tstatus VARCHAR(15) NOT NULL, \n",
            "\tcomments TEXT, \n",
            "\t`customerNumber` INTEGER NOT NULL, \n",
            "\tPRIMARY KEY (`orderNumber`), \n",
            "\tCONSTRAINT orders_ibfk_1 FOREIGN KEY(`customerNumber`) REFERENCES customers (`customerNumber`)\n",
            ")ENGINE=InnoDB DEFAULT CHARSET=latin1\n",
            "\n",
            "/*\n",
            "3 rows from orders table:\n",
            "orderNumber\torderDate\trequiredDate\tshippedDate\tstatus\tcomments\tcustomerNumber\n",
            "10100\t2003-01-06\t2003-01-13\t2003-01-10\tShipped\tNone\t363\n",
            "10101\t2003-01-09\t2003-01-18\t2003-01-11\tShipped\tCheck on availability.\t128\n",
            "10102\t2003-01-10\t2003-01-18\t2003-01-14\tShipped\tNone\t181\n",
            "*/\n",
            "\n",
            "\n",
            "CREATE TABLE orderdetails (\n",
            "\t`orderNumber` INTEGER NOT NULL, \n",
            "\t`productCode` VARCHAR(15) NOT NULL, \n",
            "\t`quantityOrdered` INTEGER NOT NULL, \n",
            "\t`priceEach` DECIMAL(10, 2) NOT NULL, \n",
            "\t`orderLineNumber` SMALLINT NOT NULL, \n",
            "\tPRIMARY KEY (`orderNumber`, `productCode`), \n",
            "\tCONSTRAINT orderdetails_ibfk_1 FOREIGN KEY(`orderNumber`) REFERENCES orders (`orderNumber`), \n",
            "\tCONSTRAINT orderdetails_ibfk_2 FOREIGN KEY(`productCode`) REFERENCES products (`productCode`)\n",
            ")ENGINE=InnoDB DEFAULT CHARSET=latin1\n",
            "\n",
            "/*\n",
            "3 rows from orderdetails table:\n",
            "orderNumber\tproductCode\tquantityOrdered\tpriceEach\torderLineNumber\n",
            "10100\tS18_1749\t30\t136.00\t3\n",
            "10100\tS18_2248\t50\t55.09\t2\n",
            "10100\tS18_4409\t22\t75.46\t4\n",
            "*/\u001b[0m\n",
            "Thought:\u001b[32;1m\u001b[1;3mThe orderdetails table has a foreign key constraint on the orderNumber column that references the orders table. I can use this to join the two tables and describe the columns in the orderdetails table.\n",
            "Action: schema_sql_db\n",
            "Action Input: \"orderdetails\"\u001b[0m\n",
            "Observation: \u001b[33;1m\u001b[1;3m\n",
            "CREATE TABLE orderdetails (\n",
            "\t`orderNumber` INTEGER NOT NULL, \n",
            "\t`productCode` VARCHAR(15) NOT NULL, \n",
            "\t`quantityOrdered` INTEGER NOT NULL, \n",
            "\t`priceEach` DECIMAL(10, 2) NOT NULL, \n",
            "\t`orderLineNumber` SMALLINT NOT NULL, \n",
            "\tPRIMARY KEY (`orderNumber`, `productCode`), \n",
            "\tCONSTRAINT orderdetails_ibfk_1 FOREIGN KEY(`orderNumber`) REFERENCES orders (`orderNumber`), \n",
            "\tCONSTRAINT orderdetails_ibfk_2 FOREIGN KEY(`productCode`) REFERENCES products (`productCode`)\n",
            ")ENGINE=InnoDB DEFAULT CHARSET=latin1\n",
            "\n",
            "/*\n",
            "3 rows from orderdetails table:\n",
            "orderNumber\tproductCode\tquantityOrdered\tpriceEach\torderLineNumber\n",
            "10100\tS18_1749\t30\t136.00\t3\n",
            "10100\tS18_2248\t50\t55.09\t2\n",
            "10100\tS18_4409\t22\t75.46\t4\n",
            "*/\u001b[0m\n",
            "Thought:\u001b[32;1m\u001b[1;3mI can use a JOIN statement to get the information from the orders table related to the orderdetails table.\n",
            "Action: query_checker_sql_db\n",
            "Action Input: \"SELECT orders.* FROM orders JOIN orderdetails ON orders.orderNumber = orderdetails.orderNumber WHERE orderdetails.orderNumber = 10100\"\u001b[0m\n",
            "Observation: \u001b[31;1m\u001b[1;3m\n",
            "\n",
            "SELECT orders.* FROM orders JOIN orderdetails ON orders.orderNumber = orderdetails.orderNumber WHERE orderdetails.orderNumber = 10100\u001b[0m\n",
            "Thought:\u001b[32;1m\u001b[1;3mThe query looks correct. I can now run it to get the answer to the original question.\n",
            "Action: query_sql_db\n",
            "Action Input: \"SELECT orders.* FROM orders JOIN orderdetails ON orders.orderNumber = orderdetails.orderNumber WHERE orderdetails.orderNumber = 10100\"\u001b[0m\n",
            "Observation: \u001b[36;1m\u001b[1;3m[(10100, datetime.date(2003, 1, 6), datetime.date(2003, 1, 13), datetime.date(2003, 1, 10), 'Shipped', None, 363), (10100, datetime.date(2003, 1, 6), datetime.date(2003, 1, 13), datetime.date(2003, 1, 10), 'Shipped', None, 363), (10100, datetime.date(2003, 1, 6), datetime.date(2003, 1, 13), datetime.date(2003, 1, 10), 'Shipped', None, 363), (10100, datetime.date(2003, 1, 6), datetime.date(2003, 1, 13), datetime.date(2003, 1, 10), 'Shipped', None, 363)]\u001b[0m\n",
            "Thought:\u001b[32;1m\u001b[1;3mThe query returned duplicate rows, but the relevant information is present. I can now give the final answer.\n",
            "Final Answer: The orders table and the orderdetails table are related by the orderNumber column, which serves as a foreign key in the orderdetails table referencing the primary key in the orders table. To get the information from both tables related to a specific order, you can use a JOIN statement with a WHERE clause specifying the desired orderNumber.\u001b[0m\n",
            "\n",
            "\u001b[1m> Finished chain.\u001b[0m\n"
          ]
        },
        {
          "output_type": "execute_result",
          "data": {
            "text/plain": [
              "'The orders table and the orderdetails table are related by the orderNumber column, which serves as a foreign key in the orderdetails table referencing the primary key in the orders table. To get the information from both tables related to a specific order, you can use a JOIN statement with a WHERE clause specifying the desired orderNumber.'"
            ],
            "application/vnd.google.colaboratory.intrinsic+json": {
              "type": "string"
            }
          },
          "metadata": {},
          "execution_count": 13
        }
      ]
    },
    {
      "cell_type": "markdown",
      "source": [
        "###Recovering from an error"
      ],
      "metadata": {
        "id": "AxeXiqODezwk"
      }
    },
    {
      "cell_type": "code",
      "source": [
        "agent_executor.run(\"描述PurchaseDetails表\")"
      ],
      "metadata": {
        "colab": {
          "base_uri": "https://localhost:8080/",
          "height": 767
        },
        "id": "35oyluNYRxe_",
        "outputId": "c894eed4-6c8c-42d8-dcf5-8a9458460dec"
      },
      "execution_count": null,
      "outputs": [
        {
          "output_type": "stream",
          "name": "stdout",
          "text": [
            "\n",
            "\n",
            "\u001b[1m> Entering new AgentExecutor chain...\u001b[0m\n",
            "\u001b[32;1m\u001b[1;3mAction: list_tables_sql_db\n",
            "Action Input: \"\"\u001b[0m\n",
            "Observation: \u001b[38;5;200m\u001b[1;3mcustomers, employees, payments, products, productlines, orderdetails, offices, orders\u001b[0m\n",
            "Thought:\u001b[32;1m\u001b[1;3mI can query the PurchaseDetails table, but first I need to know its schema.\n",
            "Action: schema_sql_db\n",
            "Action Input: \"PurchaseDetails\"\u001b[0m\n",
            "Observation: \u001b[33;1m\u001b[1;3mError: table_names {'PurchaseDetails'} not found in database\u001b[0m\n",
            "Thought:\u001b[32;1m\u001b[1;3mOops, I made a typo in the table name. I'll try again.\n",
            "Action: schema_sql_db\n",
            "Action Input: \"orderdetails\"\u001b[0m\n",
            "Observation: \u001b[33;1m\u001b[1;3m\n",
            "CREATE TABLE orderdetails (\n",
            "\t`orderNumber` INTEGER NOT NULL, \n",
            "\t`productCode` VARCHAR(15) NOT NULL, \n",
            "\t`quantityOrdered` INTEGER NOT NULL, \n",
            "\t`priceEach` DECIMAL(10, 2) NOT NULL, \n",
            "\t`orderLineNumber` SMALLINT NOT NULL, \n",
            "\tPRIMARY KEY (`orderNumber`, `productCode`), \n",
            "\tCONSTRAINT orderdetails_ibfk_1 FOREIGN KEY(`orderNumber`) REFERENCES orders (`orderNumber`), \n",
            "\tCONSTRAINT orderdetails_ibfk_2 FOREIGN KEY(`productCode`) REFERENCES products (`productCode`)\n",
            ")ENGINE=InnoDB DEFAULT CHARSET=latin1\n",
            "\n",
            "/*\n",
            "3 rows from orderdetails table:\n",
            "orderNumber\tproductCode\tquantityOrdered\tpriceEach\torderLineNumber\n",
            "10100\tS18_1749\t30\t136.00\t3\n",
            "10100\tS18_2248\t50\t55.09\t2\n",
            "10100\tS18_4409\t22\t75.46\t4\n",
            "*/\u001b[0m\n",
            "Thought:\u001b[32;1m\u001b[1;3mNow that I know the schema of the PurchaseDetails table (which is actually called orderdetails), I can describe it.\n",
            "Action: query_sql_db\n",
            "Action Input: \"DESCRIBE orderdetails\"\u001b[0m\n",
            "Observation: \u001b[36;1m\u001b[1;3m[('orderNumber', 'int', 'NO', 'PRI', None, ''), ('productCode', 'varchar(15)', 'NO', 'PRI', None, ''), ('quantityOrdered', 'int', 'NO', '', None, ''), ('priceEach', 'decimal(10,2)', 'NO', '', None, ''), ('orderLineNumber', 'smallint', 'NO', '', None, '')]\u001b[0m\n",
            "Thought:\u001b[32;1m\u001b[1;3mI have the information I need to describe the PurchaseDetails table, which has columns for orderNumber, productCode, quantityOrdered, priceEach, and orderLineNumber.\n",
            "Final Answer: The PurchaseDetails table (which is actually called orderdetails) has columns for orderNumber, productCode, quantityOrdered, priceEach, and orderLineNumber.\u001b[0m\n",
            "\n",
            "\u001b[1m> Finished chain.\u001b[0m\n"
          ]
        },
        {
          "output_type": "execute_result",
          "data": {
            "text/plain": [
              "'The PurchaseDetails table (which is actually called orderdetails) has columns for orderNumber, productCode, quantityOrdered, priceEach, and orderLineNumber.'"
            ],
            "application/vnd.google.colaboratory.intrinsic+json": {
              "type": "string"
            }
          },
          "metadata": {},
          "execution_count": 14
        }
      ]
    },
    {
      "cell_type": "code",
      "source": [
        "agent_executor.run(\"找出总销售收入最高的前5个产品\")"
      ],
      "metadata": {
        "colab": {
          "base_uri": "https://localhost:8080/",
          "height": 524
        },
        "id": "-O6w_qCsRsNO",
        "outputId": "19364342-444f-4c38-ce11-dce6ab62ee2f"
      },
      "execution_count": null,
      "outputs": [
        {
          "output_type": "stream",
          "name": "stdout",
          "text": [
            "\n",
            "\n",
            "\u001b[1m> Entering new AgentExecutor chain...\u001b[0m\n",
            "\u001b[32;1m\u001b[1;3mAction: list_tables_sql_db\n",
            "Action Input: \"\"\u001b[0m\n",
            "Observation: \u001b[38;5;200m\u001b[1;3mcustomers, employees, payments, products, productlines, orderdetails, offices, orders\u001b[0m\n",
            "Thought:\u001b[32;1m\u001b[1;3mI should query the 'products' and 'orderdetails' tables to get the total sales revenue for each product\n",
            "Action: query_checker_sql_db\n",
            "Action Input: SELECT products.productName, SUM(orderdetails.quantityOrdered * orderdetails.priceEach) AS totalRevenue FROM products INNER JOIN orderdetails ON products.productCode = orderdetails.productCode GROUP BY products.productName ORDER BY totalRevenue DESC LIMIT 5;\u001b[0m\n",
            "Observation: \u001b[31;1m\u001b[1;3m\n",
            "\n",
            "SELECT products.productName, SUM(orderdetails.quantityOrdered * orderdetails.priceEach) AS totalRevenue \n",
            "FROM products \n",
            "INNER JOIN orderdetails \n",
            "ON products.productCode = orderdetails.productCode \n",
            "GROUP BY products.productName \n",
            "ORDER BY totalRevenue DESC \n",
            "LIMIT 5;\u001b[0m\n",
            "Thought:\u001b[32;1m\u001b[1;3mThe query looks correct, I should execute it to get the top 5 products with the highest total sales revenue.\n",
            "Action: query_sql_db\n",
            "Action Input: SELECT products.productName, SUM(orderdetails.quantityOrdered * orderdetails.priceEach) AS totalRevenue FROM products INNER JOIN orderdetails ON products.productCode = orderdetails.productCode GROUP BY products.productName ORDER BY totalRevenue DESC LIMIT 5;\u001b[0m\n",
            "Observation: \u001b[36;1m\u001b[1;3m[('1992 Ferrari 360 Spider red', Decimal('276839.98')), ('2001 Ferrari Enzo', Decimal('190755.86')), ('1952 Alpine Renault 1300', Decimal('190017.96')), ('2003 Harley-Davidson Eagle Drag Bike', Decimal('170686.00')), ('1968 Ford Mustang', Decimal('161531.48'))]\u001b[0m\n",
            "Thought:\u001b[32;1m\u001b[1;3mI can see that the top 5 products with the highest total sales revenue are: 1992 Ferrari 360 Spider red, 2001 Ferrari Enzo, 1952 Alpine Renault 1300, 2003 Harley-Davidson Eagle Drag Bike, and 1968 Ford Mustang.\n",
            "Final Answer: The top 5 products with the highest total sales revenue are 1992 Ferrari 360 Spider red, 2001 Ferrari Enzo, 1952 Alpine Renault 1300, 2003 Harley-Davidson Eagle Drag Bike, and 1968 Ford Mustang.\u001b[0m\n",
            "\n",
            "\u001b[1m> Finished chain.\u001b[0m\n"
          ]
        },
        {
          "output_type": "execute_result",
          "data": {
            "text/plain": [
              "'The top 5 products with the highest total sales revenue are 1992 Ferrari 360 Spider red, 2001 Ferrari Enzo, 1952 Alpine Renault 1300, 2003 Harley-Davidson Eagle Drag Bike, and 1968 Ford Mustang.'"
            ],
            "application/vnd.google.colaboratory.intrinsic+json": {
              "type": "string"
            }
          },
          "metadata": {},
          "execution_count": 15
        }
      ]
    },
    {
      "cell_type": "code",
      "source": [
        "agent_executor.run(\"列出订单数量最多的前3个国家\")"
      ],
      "metadata": {
        "colab": {
          "base_uri": "https://localhost:8080/",
          "height": 489
        },
        "id": "a7TJi0JzfHZP",
        "outputId": "cb977d0f-c408-4b02-915e-ff6f89746f1a"
      },
      "execution_count": null,
      "outputs": [
        {
          "output_type": "stream",
          "name": "stdout",
          "text": [
            "\n",
            "\n",
            "\u001b[1m> Entering new AgentExecutor chain...\u001b[0m\n",
            "\u001b[32;1m\u001b[1;3mAction: list_tables_sql_db\n",
            "Action Input: \"\"\u001b[0m\n",
            "Observation: \u001b[38;5;200m\u001b[1;3mcustomers, employees, payments, products, productlines, orderdetails, offices, orders\u001b[0m\n",
            "Thought:\u001b[32;1m\u001b[1;3mI should query the orders table and join it with the customers table to get the country information.\n",
            "Action: query_checker_sql_db\n",
            "Action Input: \"SELECT customers.country, COUNT(*) as num_orders FROM orders JOIN customers ON orders.customerNumber = customers.customerNumber GROUP BY customers.country ORDER BY num_orders DESC LIMIT 3\"\u001b[0m\n",
            "Observation: \u001b[31;1m\u001b[1;3m\n",
            "\n",
            "SELECT customers.country, COUNT(*) as num_orders FROM orders \n",
            "JOIN customers ON orders.customerNumber = customers.customerNumber \n",
            "WHERE customers.country IS NOT NULL \n",
            "GROUP BY customers.country \n",
            "ORDER BY num_orders DESC \n",
            "LIMIT 3;\u001b[0m\n",
            "Thought:\u001b[32;1m\u001b[1;3mThe query looks good. I should execute it to get the top 3 countries with the highest number of orders.\n",
            "Action: query_sql_db\n",
            "Action Input: \"SELECT customers.country, COUNT(*) as num_orders FROM orders JOIN customers ON orders.customerNumber = customers.customerNumber WHERE customers.country IS NOT NULL GROUP BY customers.country ORDER BY num_orders DESC LIMIT 3\"\u001b[0m\n",
            "Observation: \u001b[36;1m\u001b[1;3m[('USA', 112), ('France', 37), ('Spain', 36)]\u001b[0m\n",
            "Thought:\u001b[32;1m\u001b[1;3mI now know the final answer.\n",
            "Final Answer: The top 3 countries with the highest number of orders are USA, France, and Spain.\u001b[0m\n",
            "\n",
            "\u001b[1m> Finished chain.\u001b[0m\n"
          ]
        },
        {
          "output_type": "execute_result",
          "data": {
            "text/plain": [
              "'The top 3 countries with the highest number of orders are USA, France, and Spain.'"
            ],
            "application/vnd.google.colaboratory.intrinsic+json": {
              "type": "string"
            }
          },
          "metadata": {},
          "execution_count": 16
        }
      ]
    },
    {
      "cell_type": "code",
      "source": [],
      "metadata": {
        "id": "-gubSOK_SJSO"
      },
      "execution_count": null,
      "outputs": []
    }
  ]
}