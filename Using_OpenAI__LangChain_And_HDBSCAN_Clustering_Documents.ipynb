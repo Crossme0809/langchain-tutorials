{
  "cells": [
    {
      "cell_type": "markdown",
      "metadata": {
        "id": "view-in-github",
        "colab_type": "text"
      },
      "source": [
        "<a href=\"https://colab.research.google.com/github/Crossme0809/langchain-tutorials/blob/main/Using_OpenAI__LangChain_And_HDBSCAN_Clustering_Documents.ipynb\" target=\"_parent\"><img src=\"https://colab.research.google.com/assets/colab-badge.svg\" alt=\"Open In Colab\"/></a>"
      ]
    },
    {
      "cell_type": "code",
      "source": [
        "!python3.10 --version"
      ],
      "metadata": {
        "colab": {
          "base_uri": "https://localhost:8080/"
        },
        "id": "GNgna6Mcr-f8",
        "outputId": "2d2c7f13-5254-4dd9-f34c-18a015879507"
      },
      "execution_count": 5,
      "outputs": [
        {
          "output_type": "stream",
          "name": "stdout",
          "text": [
            "Python 3.10.12\n"
          ]
        }
      ]
    },
    {
      "cell_type": "markdown",
      "source": [
        "## **安装依赖**"
      ],
      "metadata": {
        "id": "7tqCm0t9sifX"
      }
    },
    {
      "cell_type": "code",
      "source": [
        "%pip install -r requirements.txt"
      ],
      "metadata": {
        "colab": {
          "base_uri": "https://localhost:8080/"
        },
        "id": "Cool57g7sVmF",
        "outputId": "9bb185cd-a959-4426-e115-37560bc86648"
      },
      "execution_count": 7,
      "outputs": [
        {
          "output_type": "stream",
          "name": "stdout",
          "text": [
            "Looking in indexes: https://pypi.org/simple, https://us-python.pkg.dev/colab-wheels/public/simple/\n",
            "Requirement already satisfied: hdbscan==0.8.29 in /usr/local/lib/python3.10/dist-packages (from -r requirements.txt (line 1)) (0.8.29)\n",
            "Requirement already satisfied: langchain==0.0.194 in /usr/local/lib/python3.10/dist-packages (from -r requirements.txt (line 2)) (0.0.194)\n",
            "Requirement already satisfied: openai==0.27.8 in /usr/local/lib/python3.10/dist-packages (from -r requirements.txt (line 3)) (0.27.8)\n",
            "Requirement already satisfied: pandas==2.0.2 in /usr/local/lib/python3.10/dist-packages (from -r requirements.txt (line 4)) (2.0.2)\n",
            "Requirement already satisfied: python-dotenv==1.0.0 in /usr/local/lib/python3.10/dist-packages (from -r requirements.txt (line 5)) (1.0.0)\n",
            "Requirement already satisfied: tiktoken==0.4.0 in /usr/local/lib/python3.10/dist-packages (from -r requirements.txt (line 6)) (0.4.0)\n",
            "Requirement already satisfied: newsapi-python==0.2.7 in /usr/local/lib/python3.10/dist-packages (from -r requirements.txt (line 7)) (0.2.7)\n",
            "Requirement already satisfied: notebook==6.5.4 in /usr/local/lib/python3.10/dist-packages (from -r requirements.txt (line 8)) (6.5.4)\n",
            "Requirement already satisfied: cython>=0.27 in /usr/local/lib/python3.10/dist-packages (from hdbscan==0.8.29->-r requirements.txt (line 1)) (0.29.34)\n",
            "Requirement already satisfied: numpy>=1.20 in /usr/local/lib/python3.10/dist-packages (from hdbscan==0.8.29->-r requirements.txt (line 1)) (1.22.4)\n",
            "Requirement already satisfied: scipy>=1.0 in /usr/local/lib/python3.10/dist-packages (from hdbscan==0.8.29->-r requirements.txt (line 1)) (1.10.1)\n",
            "Requirement already satisfied: scikit-learn>=0.20 in /usr/local/lib/python3.10/dist-packages (from hdbscan==0.8.29->-r requirements.txt (line 1)) (1.2.2)\n",
            "Requirement already satisfied: joblib>=1.0 in /usr/local/lib/python3.10/dist-packages (from hdbscan==0.8.29->-r requirements.txt (line 1)) (1.2.0)\n",
            "Requirement already satisfied: PyYAML>=5.4.1 in /usr/local/lib/python3.10/dist-packages (from langchain==0.0.194->-r requirements.txt (line 2)) (6.0)\n",
            "Requirement already satisfied: SQLAlchemy<3,>=1.4 in /usr/local/lib/python3.10/dist-packages (from langchain==0.0.194->-r requirements.txt (line 2)) (2.0.10)\n",
            "Requirement already satisfied: aiohttp<4.0.0,>=3.8.3 in /usr/local/lib/python3.10/dist-packages (from langchain==0.0.194->-r requirements.txt (line 2)) (3.8.4)\n",
            "Requirement already satisfied: async-timeout<5.0.0,>=4.0.0 in /usr/local/lib/python3.10/dist-packages (from langchain==0.0.194->-r requirements.txt (line 2)) (4.0.2)\n",
            "Requirement already satisfied: dataclasses-json<0.6.0,>=0.5.7 in /usr/local/lib/python3.10/dist-packages (from langchain==0.0.194->-r requirements.txt (line 2)) (0.5.8)\n",
            "Requirement already satisfied: langchainplus-sdk>=0.0.6 in /usr/local/lib/python3.10/dist-packages (from langchain==0.0.194->-r requirements.txt (line 2)) (0.0.17)\n",
            "Requirement already satisfied: numexpr<3.0.0,>=2.8.4 in /usr/local/lib/python3.10/dist-packages (from langchain==0.0.194->-r requirements.txt (line 2)) (2.8.4)\n",
            "Requirement already satisfied: openapi-schema-pydantic<2.0,>=1.2 in /usr/local/lib/python3.10/dist-packages (from langchain==0.0.194->-r requirements.txt (line 2)) (1.2.4)\n",
            "Requirement already satisfied: pydantic<2,>=1 in /usr/local/lib/python3.10/dist-packages (from langchain==0.0.194->-r requirements.txt (line 2)) (1.10.7)\n",
            "Requirement already satisfied: requests<3,>=2 in /usr/local/lib/python3.10/dist-packages (from langchain==0.0.194->-r requirements.txt (line 2)) (2.27.1)\n",
            "Requirement already satisfied: tenacity<9.0.0,>=8.1.0 in /usr/local/lib/python3.10/dist-packages (from langchain==0.0.194->-r requirements.txt (line 2)) (8.2.2)\n",
            "Requirement already satisfied: tqdm in /usr/local/lib/python3.10/dist-packages (from openai==0.27.8->-r requirements.txt (line 3)) (4.65.0)\n",
            "Requirement already satisfied: python-dateutil>=2.8.2 in /usr/local/lib/python3.10/dist-packages (from pandas==2.0.2->-r requirements.txt (line 4)) (2.8.2)\n",
            "Requirement already satisfied: pytz>=2020.1 in /usr/local/lib/python3.10/dist-packages (from pandas==2.0.2->-r requirements.txt (line 4)) (2022.7.1)\n",
            "Requirement already satisfied: tzdata>=2022.1 in /usr/local/lib/python3.10/dist-packages (from pandas==2.0.2->-r requirements.txt (line 4)) (2023.3)\n",
            "Requirement already satisfied: regex>=2022.1.18 in /usr/local/lib/python3.10/dist-packages (from tiktoken==0.4.0->-r requirements.txt (line 6)) (2022.10.31)\n",
            "Requirement already satisfied: jinja2 in /usr/local/lib/python3.10/dist-packages (from notebook==6.5.4->-r requirements.txt (line 8)) (3.1.2)\n",
            "Requirement already satisfied: tornado>=6.1 in /usr/local/lib/python3.10/dist-packages (from notebook==6.5.4->-r requirements.txt (line 8)) (6.3.1)\n",
            "Requirement already satisfied: pyzmq>=17 in /usr/local/lib/python3.10/dist-packages (from notebook==6.5.4->-r requirements.txt (line 8)) (23.2.1)\n",
            "Requirement already satisfied: argon2-cffi in /usr/local/lib/python3.10/dist-packages (from notebook==6.5.4->-r requirements.txt (line 8)) (21.3.0)\n",
            "Requirement already satisfied: traitlets>=4.2.1 in /usr/local/lib/python3.10/dist-packages (from notebook==6.5.4->-r requirements.txt (line 8)) (5.7.1)\n",
            "Requirement already satisfied: jupyter-core>=4.6.1 in /usr/local/lib/python3.10/dist-packages (from notebook==6.5.4->-r requirements.txt (line 8)) (5.3.0)\n",
            "Requirement already satisfied: jupyter-client>=5.3.4 in /usr/local/lib/python3.10/dist-packages (from notebook==6.5.4->-r requirements.txt (line 8)) (6.1.12)\n",
            "Requirement already satisfied: ipython-genutils in /usr/local/lib/python3.10/dist-packages (from notebook==6.5.4->-r requirements.txt (line 8)) (0.2.0)\n",
            "Requirement already satisfied: nbformat in /usr/local/lib/python3.10/dist-packages (from notebook==6.5.4->-r requirements.txt (line 8)) (5.8.0)\n",
            "Requirement already satisfied: nbconvert>=5 in /usr/local/lib/python3.10/dist-packages (from notebook==6.5.4->-r requirements.txt (line 8)) (6.5.4)\n",
            "Requirement already satisfied: nest-asyncio>=1.5 in /usr/local/lib/python3.10/dist-packages (from notebook==6.5.4->-r requirements.txt (line 8)) (1.5.6)\n",
            "Requirement already satisfied: ipykernel in /usr/local/lib/python3.10/dist-packages (from notebook==6.5.4->-r requirements.txt (line 8)) (5.5.6)\n",
            "Requirement already satisfied: Send2Trash>=1.8.0 in /usr/local/lib/python3.10/dist-packages (from notebook==6.5.4->-r requirements.txt (line 8)) (1.8.0)\n",
            "Requirement already satisfied: terminado>=0.8.3 in /usr/local/lib/python3.10/dist-packages (from notebook==6.5.4->-r requirements.txt (line 8)) (0.17.1)\n",
            "Requirement already satisfied: prometheus-client in /usr/local/lib/python3.10/dist-packages (from notebook==6.5.4->-r requirements.txt (line 8)) (0.16.0)\n",
            "Requirement already satisfied: nbclassic>=0.4.7 in /usr/local/lib/python3.10/dist-packages (from notebook==6.5.4->-r requirements.txt (line 8)) (1.0.0)\n",
            "Requirement already satisfied: attrs>=17.3.0 in /usr/local/lib/python3.10/dist-packages (from aiohttp<4.0.0,>=3.8.3->langchain==0.0.194->-r requirements.txt (line 2)) (23.1.0)\n",
            "Requirement already satisfied: charset-normalizer<4.0,>=2.0 in /usr/local/lib/python3.10/dist-packages (from aiohttp<4.0.0,>=3.8.3->langchain==0.0.194->-r requirements.txt (line 2)) (2.0.12)\n",
            "Requirement already satisfied: multidict<7.0,>=4.5 in /usr/local/lib/python3.10/dist-packages (from aiohttp<4.0.0,>=3.8.3->langchain==0.0.194->-r requirements.txt (line 2)) (6.0.4)\n",
            "Requirement already satisfied: yarl<2.0,>=1.0 in /usr/local/lib/python3.10/dist-packages (from aiohttp<4.0.0,>=3.8.3->langchain==0.0.194->-r requirements.txt (line 2)) (1.9.2)\n",
            "Requirement already satisfied: frozenlist>=1.1.1 in /usr/local/lib/python3.10/dist-packages (from aiohttp<4.0.0,>=3.8.3->langchain==0.0.194->-r requirements.txt (line 2)) (1.3.3)\n",
            "Requirement already satisfied: aiosignal>=1.1.2 in /usr/local/lib/python3.10/dist-packages (from aiohttp<4.0.0,>=3.8.3->langchain==0.0.194->-r requirements.txt (line 2)) (1.3.1)\n",
            "Requirement already satisfied: marshmallow<4.0.0,>=3.3.0 in /usr/local/lib/python3.10/dist-packages (from dataclasses-json<0.6.0,>=0.5.7->langchain==0.0.194->-r requirements.txt (line 2)) (3.19.0)\n",
            "Requirement already satisfied: marshmallow-enum<2.0.0,>=1.5.1 in /usr/local/lib/python3.10/dist-packages (from dataclasses-json<0.6.0,>=0.5.7->langchain==0.0.194->-r requirements.txt (line 2)) (1.5.1)\n",
            "Requirement already satisfied: typing-inspect>=0.4.0 in /usr/local/lib/python3.10/dist-packages (from dataclasses-json<0.6.0,>=0.5.7->langchain==0.0.194->-r requirements.txt (line 2)) (0.9.0)\n",
            "Requirement already satisfied: platformdirs>=2.5 in /usr/local/lib/python3.10/dist-packages (from jupyter-core>=4.6.1->notebook==6.5.4->-r requirements.txt (line 8)) (3.3.0)\n",
            "Requirement already satisfied: jupyter-server>=1.8 in /usr/local/lib/python3.10/dist-packages (from nbclassic>=0.4.7->notebook==6.5.4->-r requirements.txt (line 8)) (1.24.0)\n",
            "Requirement already satisfied: notebook-shim>=0.2.3 in /usr/local/lib/python3.10/dist-packages (from nbclassic>=0.4.7->notebook==6.5.4->-r requirements.txt (line 8)) (0.2.3)\n",
            "Requirement already satisfied: lxml in /usr/local/lib/python3.10/dist-packages (from nbconvert>=5->notebook==6.5.4->-r requirements.txt (line 8)) (4.9.2)\n",
            "Requirement already satisfied: beautifulsoup4 in /usr/local/lib/python3.10/dist-packages (from nbconvert>=5->notebook==6.5.4->-r requirements.txt (line 8)) (4.11.2)\n",
            "Requirement already satisfied: bleach in /usr/local/lib/python3.10/dist-packages (from nbconvert>=5->notebook==6.5.4->-r requirements.txt (line 8)) (6.0.0)\n",
            "Requirement already satisfied: defusedxml in /usr/local/lib/python3.10/dist-packages (from nbconvert>=5->notebook==6.5.4->-r requirements.txt (line 8)) (0.7.1)\n",
            "Requirement already satisfied: entrypoints>=0.2.2 in /usr/local/lib/python3.10/dist-packages (from nbconvert>=5->notebook==6.5.4->-r requirements.txt (line 8)) (0.4)\n",
            "Requirement already satisfied: jupyterlab-pygments in /usr/local/lib/python3.10/dist-packages (from nbconvert>=5->notebook==6.5.4->-r requirements.txt (line 8)) (0.2.2)\n",
            "Requirement already satisfied: MarkupSafe>=2.0 in /usr/local/lib/python3.10/dist-packages (from nbconvert>=5->notebook==6.5.4->-r requirements.txt (line 8)) (2.1.2)\n",
            "Requirement already satisfied: mistune<2,>=0.8.1 in /usr/local/lib/python3.10/dist-packages (from nbconvert>=5->notebook==6.5.4->-r requirements.txt (line 8)) (0.8.4)\n",
            "Requirement already satisfied: nbclient>=0.5.0 in /usr/local/lib/python3.10/dist-packages (from nbconvert>=5->notebook==6.5.4->-r requirements.txt (line 8)) (0.7.4)\n",
            "Requirement already satisfied: packaging in /usr/local/lib/python3.10/dist-packages (from nbconvert>=5->notebook==6.5.4->-r requirements.txt (line 8)) (23.1)\n",
            "Requirement already satisfied: pandocfilters>=1.4.1 in /usr/local/lib/python3.10/dist-packages (from nbconvert>=5->notebook==6.5.4->-r requirements.txt (line 8)) (1.5.0)\n",
            "Requirement already satisfied: pygments>=2.4.1 in /usr/local/lib/python3.10/dist-packages (from nbconvert>=5->notebook==6.5.4->-r requirements.txt (line 8)) (2.14.0)\n",
            "Requirement already satisfied: tinycss2 in /usr/local/lib/python3.10/dist-packages (from nbconvert>=5->notebook==6.5.4->-r requirements.txt (line 8)) (1.2.1)\n",
            "Requirement already satisfied: fastjsonschema in /usr/local/lib/python3.10/dist-packages (from nbformat->notebook==6.5.4->-r requirements.txt (line 8)) (2.16.3)\n",
            "Requirement already satisfied: jsonschema>=2.6 in /usr/local/lib/python3.10/dist-packages (from nbformat->notebook==6.5.4->-r requirements.txt (line 8)) (4.3.3)\n",
            "Requirement already satisfied: typing-extensions>=4.2.0 in /usr/local/lib/python3.10/dist-packages (from pydantic<2,>=1->langchain==0.0.194->-r requirements.txt (line 2)) (4.5.0)\n",
            "Requirement already satisfied: six>=1.5 in /usr/local/lib/python3.10/dist-packages (from python-dateutil>=2.8.2->pandas==2.0.2->-r requirements.txt (line 4)) (1.16.0)\n",
            "Requirement already satisfied: urllib3<1.27,>=1.21.1 in /usr/local/lib/python3.10/dist-packages (from requests<3,>=2->langchain==0.0.194->-r requirements.txt (line 2)) (1.26.15)\n",
            "Requirement already satisfied: certifi>=2017.4.17 in /usr/local/lib/python3.10/dist-packages (from requests<3,>=2->langchain==0.0.194->-r requirements.txt (line 2)) (2022.12.7)\n",
            "Requirement already satisfied: idna<4,>=2.5 in /usr/local/lib/python3.10/dist-packages (from requests<3,>=2->langchain==0.0.194->-r requirements.txt (line 2)) (3.4)\n",
            "Requirement already satisfied: threadpoolctl>=2.0.0 in /usr/local/lib/python3.10/dist-packages (from scikit-learn>=0.20->hdbscan==0.8.29->-r requirements.txt (line 1)) (3.1.0)\n",
            "Requirement already satisfied: greenlet!=0.4.17 in /usr/local/lib/python3.10/dist-packages (from SQLAlchemy<3,>=1.4->langchain==0.0.194->-r requirements.txt (line 2)) (2.0.2)\n",
            "Requirement already satisfied: ptyprocess in /usr/local/lib/python3.10/dist-packages (from terminado>=0.8.3->notebook==6.5.4->-r requirements.txt (line 8)) (0.7.0)\n",
            "Requirement already satisfied: argon2-cffi-bindings in /usr/local/lib/python3.10/dist-packages (from argon2-cffi->notebook==6.5.4->-r requirements.txt (line 8)) (21.2.0)\n",
            "Requirement already satisfied: ipython>=5.0.0 in /usr/local/lib/python3.10/dist-packages (from ipykernel->notebook==6.5.4->-r requirements.txt (line 8)) (7.34.0)\n",
            "Requirement already satisfied: setuptools>=18.5 in /usr/local/lib/python3.10/dist-packages (from ipython>=5.0.0->ipykernel->notebook==6.5.4->-r requirements.txt (line 8)) (67.7.2)\n",
            "Requirement already satisfied: jedi>=0.16 in /usr/local/lib/python3.10/dist-packages (from ipython>=5.0.0->ipykernel->notebook==6.5.4->-r requirements.txt (line 8)) (0.18.2)\n",
            "Requirement already satisfied: decorator in /usr/local/lib/python3.10/dist-packages (from ipython>=5.0.0->ipykernel->notebook==6.5.4->-r requirements.txt (line 8)) (4.4.2)\n",
            "Requirement already satisfied: pickleshare in /usr/local/lib/python3.10/dist-packages (from ipython>=5.0.0->ipykernel->notebook==6.5.4->-r requirements.txt (line 8)) (0.7.5)\n",
            "Requirement already satisfied: prompt-toolkit!=3.0.0,!=3.0.1,<3.1.0,>=2.0.0 in /usr/local/lib/python3.10/dist-packages (from ipython>=5.0.0->ipykernel->notebook==6.5.4->-r requirements.txt (line 8)) (3.0.38)\n",
            "Requirement already satisfied: backcall in /usr/local/lib/python3.10/dist-packages (from ipython>=5.0.0->ipykernel->notebook==6.5.4->-r requirements.txt (line 8)) (0.2.0)\n",
            "Requirement already satisfied: matplotlib-inline in /usr/local/lib/python3.10/dist-packages (from ipython>=5.0.0->ipykernel->notebook==6.5.4->-r requirements.txt (line 8)) (0.1.6)\n",
            "Requirement already satisfied: pexpect>4.3 in /usr/local/lib/python3.10/dist-packages (from ipython>=5.0.0->ipykernel->notebook==6.5.4->-r requirements.txt (line 8)) (4.8.0)\n",
            "Requirement already satisfied: pyrsistent!=0.17.0,!=0.17.1,!=0.17.2,>=0.14.0 in /usr/local/lib/python3.10/dist-packages (from jsonschema>=2.6->nbformat->notebook==6.5.4->-r requirements.txt (line 8)) (0.19.3)\n",
            "Requirement already satisfied: anyio<4,>=3.1.0 in /usr/local/lib/python3.10/dist-packages (from jupyter-server>=1.8->nbclassic>=0.4.7->notebook==6.5.4->-r requirements.txt (line 8)) (3.6.2)\n",
            "Requirement already satisfied: websocket-client in /usr/local/lib/python3.10/dist-packages (from jupyter-server>=1.8->nbclassic>=0.4.7->notebook==6.5.4->-r requirements.txt (line 8)) (1.5.1)\n",
            "Requirement already satisfied: mypy-extensions>=0.3.0 in /usr/local/lib/python3.10/dist-packages (from typing-inspect>=0.4.0->dataclasses-json<0.6.0,>=0.5.7->langchain==0.0.194->-r requirements.txt (line 2)) (1.0.0)\n",
            "Requirement already satisfied: cffi>=1.0.1 in /usr/local/lib/python3.10/dist-packages (from argon2-cffi-bindings->argon2-cffi->notebook==6.5.4->-r requirements.txt (line 8)) (1.15.1)\n",
            "Requirement already satisfied: soupsieve>1.2 in /usr/local/lib/python3.10/dist-packages (from beautifulsoup4->nbconvert>=5->notebook==6.5.4->-r requirements.txt (line 8)) (2.4.1)\n",
            "Requirement already satisfied: webencodings in /usr/local/lib/python3.10/dist-packages (from bleach->nbconvert>=5->notebook==6.5.4->-r requirements.txt (line 8)) (0.5.1)\n",
            "Requirement already satisfied: sniffio>=1.1 in /usr/local/lib/python3.10/dist-packages (from anyio<4,>=3.1.0->jupyter-server>=1.8->nbclassic>=0.4.7->notebook==6.5.4->-r requirements.txt (line 8)) (1.3.0)\n",
            "Requirement already satisfied: pycparser in /usr/local/lib/python3.10/dist-packages (from cffi>=1.0.1->argon2-cffi-bindings->argon2-cffi->notebook==6.5.4->-r requirements.txt (line 8)) (2.21)\n",
            "Requirement already satisfied: parso<0.9.0,>=0.8.0 in /usr/local/lib/python3.10/dist-packages (from jedi>=0.16->ipython>=5.0.0->ipykernel->notebook==6.5.4->-r requirements.txt (line 8)) (0.8.3)\n",
            "Requirement already satisfied: wcwidth in /usr/local/lib/python3.10/dist-packages (from prompt-toolkit!=3.0.0,!=3.0.1,<3.1.0,>=2.0.0->ipython>=5.0.0->ipykernel->notebook==6.5.4->-r requirements.txt (line 8)) (0.2.6)\n"
          ]
        }
      ]
    },
    {
      "cell_type": "code",
      "execution_count": 18,
      "metadata": {
        "colab": {
          "base_uri": "https://localhost:8080/"
        },
        "id": "56denEvKvJZS",
        "outputId": "d5313828-35c8-4557-fcfb-66be1b7a2520"
      },
      "outputs": [
        {
          "output_type": "execute_result",
          "data": {
            "text/plain": [
              "True"
            ]
          },
          "metadata": {},
          "execution_count": 18
        }
      ],
      "source": [
        "import os\n",
        "\n",
        "import hdbscan\n",
        "import pandas as pd\n",
        "\n",
        "from langchain import LLMChain\n",
        "from langchain.chat_models import ChatOpenAI\n",
        "from langchain.embeddings.openai import OpenAIEmbeddings\n",
        "from langchain.prompts.chat import (\n",
        "    ChatPromptTemplate,\n",
        "    SystemMessagePromptTemplate,\n",
        "    HumanMessagePromptTemplate,\n",
        ")\n",
        "from newsapi import NewsApiClient\n",
        "\n",
        "from dotenv import load_dotenv\n",
        "\n",
        "load_dotenv()"
      ]
    },
    {
      "cell_type": "markdown",
      "metadata": {
        "id": "v7mK8pQvvJZW"
      },
      "source": [
        "\n",
        "## 从相关来源获得10篇新闻报道（因为接口限速原因，这里演示10条）"
      ]
    },
    {
      "cell_type": "code",
      "execution_count": 29,
      "metadata": {
        "id": "AdY8rR8YvJZY"
      },
      "outputs": [],
      "source": [
        "newsapi = NewsApiClient(api_key=os.getenv(\"NEWSAPI_API_KEY\"))\n",
        "sources_1 = [\n",
        "    \"the-washington-post\",\n",
        "    \"the-wall-street-journal\",\n",
        "    \"business-insider\",\n",
        "]\n",
        "sources_2 = [\n",
        "    \"google-news\"\n",
        "]"
      ]
    },
    {
      "cell_type": "code",
      "execution_count": 30,
      "metadata": {
        "id": "xVB0xTM1vJZZ"
      },
      "outputs": [],
      "source": [
        "recent_articles = []\n",
        "for source in [sources_1, sources_2]:\n",
        "    recent_articles.extend(newsapi.get_everything(\n",
        "        sources=\",\".join(source),\n",
        "        language=\"zh\",\n",
        "        page_size=50\n",
        "    )[\"articles\"])"
      ]
    },
    {
      "cell_type": "code",
      "source": [
        "print(recent_articles)"
      ],
      "metadata": {
        "colab": {
          "base_uri": "https://localhost:8080/"
        },
        "id": "VU7xr4GNyzR0",
        "outputId": "5ad02043-1c44-4091-ee0f-87100c5f8d96"
      },
      "execution_count": 31,
      "outputs": [
        {
          "output_type": "stream",
          "name": "stdout",
          "text": [
            "[{'source': {'id': 'google-news', 'name': 'Google News'}, 'author': None, 'title': '微軟調漲Xbox Game Pass部分方案及部分地區市場的Xbox Series X遊戲主機價格- mashdigi－科技、新品、趣聞、趨勢 - mashdigi.com', 'description': '<ol><li>微軟調漲Xbox Game Pass部分方案及部分地區市場的Xbox Series X遊戲主機價格- mashdigi－科技、新品、趣聞、趨勢\\xa0\\xa0mashdigi.com\\r\\n</li><li>微軟宣布調漲Xbox Game Pass 部分方案價格與Xbox Series X 主機市場價格\\xa0\\xa0巴哈姆特電玩資訊站\\r\\n</li><li>前往 Google 新聞查看完整報導</li></ol>', 'url': 'https://consent.google.com/ml?continue=https://news.google.com/rss/articles/CBMihgFodHRwczovL21hc2hkaWdpLmNvbS9taWNyb3NvZnQtcmFpc2VzLXRoZS1wcmljZS1vZi1zb21lLXhib3gtZ2FtZS1wYXNzLXBsYW5zLWFuZC14Ym94LXNlcmllcy14LWdhbWUtY29uc29sZXMtaW4tc29tZS1yZWdpb25hbC1tYXJrZXRzL9IBAA?oc%3D5&gl=FR&hl=en-US&cm=2&pc=n&src=1', 'urlToImage': None, 'publishedAt': '2023-06-22T10:45:36Z', 'content': 'We use cookies and data to<ul><li>Deliver and maintain Google services</li><li>Track outages and protect against spam, fraud, and abuse</li><li>Measure audience engagement and site statistics to unde… [+1131 chars]'}, {'source': {'id': 'google-news', 'name': 'Google News'}, 'author': None, 'title': '嘴比石头还硬的三大星座_狮子座_事情_金牛座 - 搜狐', 'description': '嘴比石头还硬的三大星座_狮子座_事情_金牛座\\xa0\\xa0搜狐', 'url': 'https://consent.google.com/ml?continue=https://news.google.com/rss/articles/CBMiYGh0dHBzOi8vd3d3LnNvaHUuY29tL2EvNjg4MTk1OTEyXzEyMTQ0MDUxMD9zY209MTEwMi54Y2hhbm5lbDoxMDYzOjExMDAzNi4wLjEuMH45MDEwLjgwMDAuMC4wLjY4OdIBAA?oc%3D5&gl=FR&hl=en-US&cm=2&pc=n&src=1', 'urlToImage': None, 'publishedAt': '2023-06-22T10:33:00Z', 'content': 'We use cookies and data to<ul><li>Deliver and maintain Google services</li><li>Track outages and protect against spam, fraud, and abuse</li><li>Measure audience engagement and site statistics to unde… [+1131 chars]'}, {'source': {'id': 'google-news', 'name': 'Google News'}, 'author': None, 'title': '任天堂揭曉《超級瑪利歐兄弟驚奇》、《超級舞動瓦利歐製造》與諸多遊戲新作- mashdigi－科技、新品、趣聞、趨勢 - mashdigi.com', 'description': '<ol><li>任天堂揭曉《超級瑪利歐兄弟驚奇》、《超級舞動瓦利歐製造》與諸多遊戲新作- mashdigi－科技、新品、趣聞、趨勢\\xa0\\xa0mashdigi.com\\r\\n</li><li>經典2D 橫向捲軸《瑪利歐》新作《超級瑪利歐兄弟驚奇》正式發表預定10 月推出\\xa0\\xa0巴哈姆特電玩資訊站\\r\\n</li><li>任天堂Switch下半年必玩遊戲 《瑪利歐》領軍7款上市資訊一次看\\xa0\\xa0NOWnews 今日新聞\\r\\n</li><li>SFC 經典RPG《超級瑪利歐RPG》Switch 重製版正式發表預定11 月推出\\xa0\\xa0巴哈姆特電玩資…', 'url': 'https://consent.google.com/ml?continue=https://news.google.com/rss/articles/CBMiSmh0dHBzOi8vbWFzaGRpZ2kuY29tL25pbnRlbmRvLXJldmVhbHMtc3VwZXItbWFyaW8tYnJvcy1uZXctZ2FtZXMtYW5kLW1vcmUv0gEA?oc%3D5&gl=FR&hl=en-US&cm=2&pc=n&src=1', 'urlToImage': None, 'publishedAt': '2023-06-22T10:29:41Z', 'content': 'We use cookies and data to<ul><li>Deliver and maintain Google services</li><li>Track outages and protect against spam, fraud, and abuse</li><li>Measure audience engagement and site statistics to unde… [+1131 chars]'}, {'source': {'id': 'google-news', 'name': 'Google News'}, 'author': None, 'title': '应急管理部工作组在宁夏银川市指导燃气爆炸事故应急处置工作 - 环球网', 'description': '应急管理部工作组在宁夏银川市指导燃气爆炸事故应急处置工作\\xa0\\xa0环球网在Google 新闻上查看完整报道', 'url': 'https://consent.google.com/ml?continue=https://news.google.com/rss/articles/CBMiLGh0dHA6Ly9jaGluYS5odWFucWl1LmNvbS9hcnRpY2xlLzREUGlzRzliUTg50gEA?oc%3D5&gl=FR&hl=en-US&cm=2&pc=n&src=1', 'urlToImage': None, 'publishedAt': '2023-06-22T10:26:11Z', 'content': 'We use cookies and data to<ul><li>Deliver and maintain Google services</li><li>Track outages and protect against spam, fraud, and abuse</li><li>Measure audience engagement and site statistics to unde… [+1131 chars]'}, {'source': {'id': 'google-news', 'name': 'Google News'}, 'author': None, 'title': '近賞Louis Vuitton 2024 春夏系列全新鞋款 - HYPEBEAST', 'description': '<ol><li>近賞Louis Vuitton 2024 春夏系列全新鞋款\\xa0\\xa0HYPEBEAST\\r\\n</li><li>Pharrell Williams 操刀Louis Vuitton 2024 春夏系列男裝大秀正式登場\\xa0\\xa0HYPEBEAST\\r\\n</li><li>在Google 新闻上查看完整报道</li></ol>', 'url': 'https://consent.google.com/ml?continue=https://news.google.com/rss/articles/CBMiSGh0dHBzOi8vaHlwZWJlYXN0LmNuLzIwMjMvNi9sb3Vpcy12dWl0dG9uLXNzMjQtZm9vdHdlYXItY2xvc2VyLWxvb2staW5mb9IBAA?oc%3D5&gl=FR&hl=en-US&cm=2&pc=n&src=1', 'urlToImage': None, 'publishedAt': '2023-06-22T10:19:40Z', 'content': 'We use cookies and data to<ul><li>Deliver and maintain Google services</li><li>Track outages and protect against spam, fraud, and abuse</li><li>Measure audience engagement and site statistics to unde… [+1131 chars]'}, {'source': {'id': 'google-news', 'name': 'Google News'}, 'author': None, 'title': '侯友宜民調落後…陳玉珍籲設防磚條款 藍重申不可能換人 - 聯合新聞網', 'description': '<ol><li>侯友宜民調落後…陳玉珍籲設防磚條款 藍重申不可能換人\\xa0\\xa0聯合新聞網\\r\\n</li><li>陳玉珍提15%防磚條款！徐巧芯稱「不能理解」：真的會換人就是會換人\\xa0\\xa0Yahoo奇摩新聞\\r\\n</li><li>侯友宜民調差！藍委憂心建議保留換侯空間 黃健庭：絕無可能\\xa0\\xa0三立新聞網 Setn.com\\r\\n</li><li>批「民調15％防磚條款」不合適 國民黨團：那是陳玉珍個人看法\\xa0\\xa0ETtoday新聞雲\\r\\n</li><li>陳玉珍拋「防磚條款」1條件換侯 侯友宜：最後一定贏\\xa0\\xa0Yahoo奇摩新聞\\r\\n</li><…', 'url': 'https://consent.google.com/ml?continue=https://news.google.com/rss/articles/CBMiJ2h0dHBzOi8vdWRuLmNvbS9uZXdzL3N0b3J5LzY2NTYvNzI1MzM4OdIBLWh0dHBzOi8vdWRuLmNvbS9uZXdzL2FtcC9zdG9yeS8xMjMzMDcvNzI1MzM4OQ?oc%3D5&gl=FR&hl=en-US&cm=2&pc=n&src=1', 'urlToImage': None, 'publishedAt': '2023-06-22T10:18:43Z', 'content': 'We use cookies and data to<ul><li>Deliver and maintain Google services</li><li>Track outages and protect against spam, fraud, and abuse</li><li>Measure audience engagement and site statistics to unde… [+1131 chars]'}, {'source': {'id': 'google-news', 'name': 'Google News'}, 'author': None, 'title': '端午节当天 太原铁路增加客座能力4万个 - 黄河新闻网', 'description': '端午节当天 太原铁路增加客座能力4万个\\xa0\\xa0黄河新闻网', 'url': 'https://consent.google.com/ml?continue=https://news.google.com/rss/articles/CBMiPGh0dHBzOi8vd3d3LnN4Z292LmNuL2NvbnRlbnQvMjAyMy0wNi8yMi9jb250ZW50XzEzMDE2NDA1Lmh0bdIBAA?oc%3D5&gl=FR&hl=en-US&cm=2&pc=n&src=1', 'urlToImage': None, 'publishedAt': '2023-06-22T10:17:13Z', 'content': 'We use cookies and data to<ul><li>Deliver and maintain Google services</li><li>Track outages and protect against spam, fraud, and abuse</li><li>Measure audience engagement and site statistics to unde… [+1131 chars]'}, {'source': {'id': 'google-news', 'name': 'Google News'}, 'author': None, 'title': '樂天52戰70失誤 僅半季就逼近兄弟史上最佳守備紀錄 - Yahoo奇摩運動', 'description': '樂天52戰70失誤 僅半季就逼近兄弟史上最佳守備紀錄\\xa0\\xa0Yahoo奇摩運動前往 Google 新聞查看完整報導', 'url': 'https://consent.google.com/ml?continue=https://news.google.com/rss/articles/CBMi8gFodHRwczovL3R3LnNwb3J0cy55YWhvby5jb20vbmV3cy8lRTYlQTglODIlRTUlQTQlQTk1MiVFNiU4OCVCMDcwJUU1JUE0JUIxJUU4JUFBJUE0LSVFNSU4MyU4NSVFNSU4RCU4QSVFNSVBRCVBMyVFNSVCMCVCMSVFOSU4MCVCQyVFOCVCRiU5MSVFNSU4NSU4NCVFNSVCQyU5RiVFNSU4RiVCMiVFNCVCOCU4QSVFNiU5QyU4MCVFNCVCRCVCMyVFNSVBRSU4OCVFNSU4MiU5OSVFNyVCNCU4MCVFOSU4QyU4NC0xMDA1NDY5OTcuaHRtbNIB-gFodHRwczovL3R3LnNwb3J0cy55YWhvby5jb20vYW1waHRtbC9uZXdzLyVFNiVBOCU4MiVFNSVBNCVBOTUyJUU2JTg4JUIwNzAlRTUlQTQlQjElRTglQUElQTQtJUU1JTgzJTg1JUU1JThEJThBJUU1JUFEJUEzJUU1JUIwJUIxJUU5JTgwJUJDJUU4JUJGJTkxJUU1JTg1JTg0JUU1JUJDJTlGJUU1JThGJUIyJUU0JUI4JThBJUU2JTlDJTgwJUU0JUJEJUIzJUU1JUFFJTg4JUU1JTgyJTk5JUU3JUI0JTgwJUU5JThDJTg0LTEwMDU0Njk5Ny5odG1s?oc%3D5&gl=FR&hl=en-US&cm=2&pc=n&src=1', 'urlToImage': None, 'publishedAt': '2023-06-22T10:15:49Z', 'content': 'We use cookies and data to<ul><li>Deliver and maintain Google services</li><li>Track outages and protect against spam, fraud, and abuse</li><li>Measure audience engagement and site statistics to unde… [+1131 chars]'}, {'source': {'id': 'google-news', 'name': 'Google News'}, 'author': None, 'title': '学习进行时丨这位伟大人物的精神，总书记十分看重 - 华商网', 'description': '学习进行时丨这位伟大人物的精神，总书记十分看重\\xa0\\xa0华商网', 'url': 'https://consent.google.com/ml?continue=https://news.google.com/rss/articles/CBMiMWh0dHA6Ly9uZXdzLmhzdy5jbi9zeXN0ZW0vMjAyMy8wNjIyLzE2Mzg0NTMuc2h0bWzSAQA?oc%3D5&gl=FR&hl=en-US&cm=2&pc=n&src=1', 'urlToImage': None, 'publishedAt': '2023-06-22T10:10:00Z', 'content': 'We use cookies and data to<ul><li>Deliver and maintain Google services</li><li>Track outages and protect against spam, fraud, and abuse</li><li>Measure audience engagement and site statistics to unde… [+1131 chars]'}, {'source': {'id': 'google-news', 'name': 'Google News'}, 'author': None, 'title': '学习进行时丨这位伟大人物的精神，总书记十分看重_新民时政 - 新民网', 'description': '学习进行时丨这位伟大人物的精神，总书记十分看重_新民时政\\xa0\\xa0新民网', 'url': 'https://consent.google.com/ml?continue=https://news.google.com/rss/articles/CBMiL2h0dHBzOi8vbmV3cy54aW5taW4uY24vMjAyMy8wNi8yMi8zMjQxMDkyMy5odG1s0gEA?oc%3D5&gl=FR&hl=en-US&cm=2&pc=n&src=1', 'urlToImage': None, 'publishedAt': '2023-06-22T10:07:00Z', 'content': 'We use cookies and data to<ul><li>Deliver and maintain Google services</li><li>Track outages and protect against spam, fraud, and abuse</li><li>Measure audience engagement and site statistics to unde… [+1131 chars]'}, {'source': {'id': 'google-news', 'name': 'Google News'}, 'author': None, 'title': '坐牢兼當劊子手！ 他幫「處決26名死囚」減刑獲釋了| ETtoday國際新聞 - ETtoday新聞雲', 'description': '坐牢兼當劊子手！ 他幫「處決26名死囚」減刑獲釋了| ETtoday國際新聞\\xa0\\xa0ETtoday新聞雲', 'url': 'https://consent.google.com/ml?continue=https://news.google.com/rss/articles/CBMiMWh0dHBzOi8vd3d3LmV0dG9kYXkubmV0L25ld3MvMjAyMzA2MjIvMjUyNTUzOS5odG3SAQA?oc%3D5%26hl%3Den-CA%26gl%3DCA%26ceid%3DCA:en&gl=FR&hl=en-CA&cm=2&pc=n&src=1', 'urlToImage': None, 'publishedAt': '2023-06-22T10:05:00Z', 'content': 'We use cookies and data to<ul><li>Deliver and maintain Google services</li><li>Track outages and protect against spam, fraud, and abuse</li><li>Measure audience engagement and site statistics to unde… [+1131 chars]'}, {'source': {'id': 'google-news', 'name': 'Google News'}, 'author': None, 'title': '龙舟竞渡华亭湖！松江区第十三届端午龙舟赛上午开赛_郊野 - 新民网', 'description': '龙舟竞渡华亭湖！松江区第十三届端午龙舟赛上午开赛_郊野\\xa0\\xa0新民网', 'url': 'https://consent.google.com/ml?continue=https://news.google.com/rss/articles/CBMiLmh0dHA6Ly9uZXdzLnhpbm1pbi5jbi8yMDIzLzA2LzIyLzMyNDEwOTIyLmh0bWzSAQA?oc%3D5&gl=FR&hl=en-US&cm=2&pc=n&src=1', 'urlToImage': None, 'publishedAt': '2023-06-22T10:02:00Z', 'content': 'We use cookies and data to<ul><li>Deliver and maintain Google services</li><li>Track outages and protect against spam, fraud, and abuse</li><li>Measure audience engagement and site statistics to unde… [+1131 chars]'}, {'source': {'id': 'google-news', 'name': 'Google News'}, 'author': None, 'title': '学习进行时丨这位伟大人物的精神，总书记十分看重 - 瞭望东方周刊', 'description': '学习进行时丨这位伟大人物的精神，总书记十分看重\\xa0\\xa0瞭望东方周刊', 'url': 'https://consent.google.com/ml?continue=https://news.google.com/rss/articles/CBMiP2h0dHBzOi8vbmV3cy5zaW5hLmNvbS5jbi9jLzIwMjMtMDYtMjIvZG9jLWlteXllZXBxNzcyODc1My5zaHRtbNIBAA?oc%3D5&gl=FR&hl=en-US&cm=2&pc=n&src=1', 'urlToImage': None, 'publishedAt': '2023-06-22T10:00:25Z', 'content': 'We use cookies and data to<ul><li>Deliver and maintain Google services</li><li>Track outages and protect against spam, fraud, and abuse</li><li>Measure audience engagement and site statistics to unde… [+1131 chars]'}, {'source': {'id': 'google-news', 'name': 'Google News'}, 'author': None, 'title': '深海比月球更神祕 人類只繪製20％海底地圖 - ETtoday新聞雲', 'description': '<ol><li>深海比月球更神祕 人類只繪製20％海底地圖\\xa0\\xa0ETtoday新聞雲\\r\\n</li><li>深海救援泰坦號多難？專家：人類僅知20%海底、太空旅行還容易些\\xa0\\xa0Yahoo奇摩新聞\\r\\n</li><li>前往 Google 新聞查看完整報導</li></ol>', 'url': 'https://consent.google.com/ml?continue=https://news.google.com/rss/articles/CBMiMWh0dHBzOi8vd3d3LmV0dG9kYXkubmV0L25ld3MvMjAyMzA2MjIvMjUyNTU2My5odG3SATlodHRwczovL3d3dy5ldHRvZGF5Lm5ldC9hbXAvYW1wX25ld3MucGhwNz9uZXdzX2lkPTI1MjU1NjM?oc%3D5&gl=FR&hl=en-US&cm=2&pc=n&src=1', 'urlToImage': None, 'publishedAt': '2023-06-22T09:59:00Z', 'content': 'We use cookies and data to<ul><li>Deliver and maintain Google services</li><li>Track outages and protect against spam, fraud, and abuse</li><li>Measure audience engagement and site statistics to unde… [+1131 chars]'}, {'source': {'id': 'google-news', 'name': 'Google News'}, 'author': None, 'title': '银川市今晚召开银川市兴庆区富洋烧烤店燃气爆炸事故新闻发布会 - 南方网', 'description': '银川市今晚召开银川市兴庆区富洋烧烤店燃气爆炸事故新闻发布会\\xa0\\xa0南方网在Google 新闻上查看完整报道', 'url': 'https://consent.google.com/ml?continue=https://news.google.com/rss/articles/CBMiOWh0dHBzOi8vbmV3cy5zb3V0aGNuLmNvbS9ub2RlXzE3OWQyOWYxY2UvYWNhMjc1OGI2Yi5zaHRtbNIBAA?oc%3D5&gl=FR&hl=en-US&cm=2&pc=n&src=1', 'urlToImage': None, 'publishedAt': '2023-06-22T09:42:00Z', 'content': 'We use cookies and data to<ul><li>Deliver and maintain Google services</li><li>Track outages and protect against spam, fraud, and abuse</li><li>Measure audience engagement and site statistics to unde… [+1131 chars]'}, {'source': {'id': 'google-news', 'name': 'Google News'}, 'author': None, 'title': '慘！寧夏燒烤店爆炸奪31命 老闆遭起底：名下9間公司 - Yahoo奇摩股市', 'description': '<ol><li>慘！寧夏燒烤店爆炸奪31命 老闆遭起底：名下9間公司\\xa0\\xa0Yahoo奇摩股市\\r\\n</li><li>寧夏燒烤店氣爆31死 銀川市長道歉：展開一個月大排查\\xa0\\xa0經濟日報\\r\\n</li><li>銀川燒烤店大爆炸奪31命\\xa0\\xa0加拿大星島日報\\r\\n</li><li>中國大陸寧夏燒烤店爆炸 釀31死7傷\\xa0\\xa0Yahoo奇摩新聞\\r\\n</li><li>富洋燒烤爆炸 銀川餐館大多用液化氣罐有原因\\xa0\\xa0大紀元\\r\\n</li><li>前往 Google 新聞查看完整報導</li></ol>', 'url': 'https://consent.google.com/ml?continue=https://news.google.com/rss/articles/CBMi6QFodHRwczovL3R3LnN0b2NrLnlhaG9vLmNvbS9uZXdzLyVFNiU4NSU5OC0lRTUlQUYlQTclRTUlQTQlOEYlRTclODclOTIlRTclODMlQTQlRTUlQkElOTclRTclODglODYlRTclODIlQjglRTUlQTUlQUEzMSVFNSU5MSVCRC0lRTglODAlODElRTklOTclODYlRTklODElQUQlRTglQjUlQjclRTUlQkElOTUtJUU1JTkwJThEJUU0JUI4JThCOSVFOSU5NiU5MyVFNSU4NSVBQyVFNSU4RiVCOC0wOTQwNDE3NTAuaHRtbNIB8QFodHRwczovL3R3LnN0b2NrLnlhaG9vLmNvbS9hbXBodG1sL25ld3MvJUU2JTg1JTk4LSVFNSVBRiVBNyVFNSVBNCU4RiVFNyU4NyU5MiVFNyU4MyVBNCVFNSVCQSU5NyVFNyU4OCU4NiVFNyU4MiVCOCVFNSVBNSVBQTMxJUU1JTkxJUJELSVFOCU4MCU4MSVFOSU5NyU4NiVFOSU4MSVBRCVFOCVCNSVCNyVFNSVCQSU5NS0lRTUlOTAlOEQlRTQlQjglOEI5JUU5JTk2JTkzJUU1JTg1JUFDJUU1JThGJUI4LTA5NDA0MTc1MC5odG1s?oc%3D5&gl=FR&hl=en-US&cm=2&pc=n&src=1', 'urlToImage': None, 'publishedAt': '2023-06-22T09:40:41Z', 'content': 'We use cookies and data to<ul><li>Deliver and maintain Google services</li><li>Track outages and protect against spam, fraud, and abuse</li><li>Measure audience engagement and site statistics to unde… [+1131 chars]'}, {'source': {'id': 'google-news', 'name': 'Google News'}, 'author': None, 'title': '中国平安：宁夏银川烧烤店爆炸事故已排查到11名出险客户 - 环球网', 'description': '中国平安：宁夏银川烧烤店爆炸事故已排查到11名出险客户\\xa0\\xa0环球网在Google 新闻上查看完整报道', 'url': 'https://consent.google.com/ml?continue=https://news.google.com/rss/articles/CBMiLGh0dHA6Ly9jaGluYS5odWFucWl1LmNvbS9hcnRpY2xlLzREUGhDdDBYNGM10gEA?oc%3D5&gl=FR&hl=en-US&cm=2&pc=n&src=1', 'urlToImage': None, 'publishedAt': '2023-06-22T09:40:16Z', 'content': 'We use cookies and data to<ul><li>Deliver and maintain Google services</li><li>Track outages and protect against spam, fraud, and abuse</li><li>Measure audience engagement and site statistics to unde… [+1131 chars]'}, {'source': {'id': 'google-news', 'name': 'Google News'}, 'author': None, 'title': '端午假期首日长三角铁路迎来客流高峰预计发送旅客340万人次 - 无锡新传媒', 'description': '端午假期首日长三角铁路迎来客流高峰预计发送旅客340万人次\\xa0\\xa0无锡新传媒', 'url': 'https://consent.google.com/ml?continue=https://news.google.com/rss/articles/CBMiL2h0dHA6Ly93d3cud3hyYi5jb20vZG9jLzIwMjMvMDYvMjIvMjg3OTgwLnNodG1s0gEA?oc%3D5&gl=FR&hl=en-US&cm=2&pc=n&src=1', 'urlToImage': None, 'publishedAt': '2023-06-22T09:40:00Z', 'content': 'We use cookies and data to<ul><li>Deliver and maintain Google services</li><li>Track outages and protect against spam, fraud, and abuse</li><li>Measure audience engagement and site statistics to unde… [+1131 chars]'}, {'source': {'id': 'google-news', 'name': 'Google News'}, 'author': None, 'title': '黃子佼毀滅自爆！蔡燦得驚曝當年「性騷擾經驗」 揭鹹豬手1惡劣招數 - 民視新聞網FTVn', 'description': '<ol><li>黃子佼毀滅自爆！蔡燦得驚曝當年「性騷擾經驗」 揭鹹豬手1惡劣招數\\xa0\\xa0民視新聞網FTVn\\r\\n</li><li>蔡燦得被爸爸阻止交往！評黃子佼「不是個好人」片段被挖：先知\\xa0\\xa0ETtoday星光雲\\r\\n</li><li>蔡燦得爆遭被性騷擾為了自保只能裝傻｜東森新聞\\xa0\\xa0東森新聞\\r\\n</li><li>黃子佼爆「追過楊丞琳」！驚人畫面全遭掀 她現身回應了\\xa0\\xa0三立新聞網 Setn.com\\r\\n</li><li>夏宇童《康熙》洩交往態度 小S早預言：妳犯了黃子佼大忌！\\xa0\\xa0ETtoday星光雲\\r\\n</li><li>前往…', 'url': 'https://consent.google.com/ml?continue=https://news.google.com/rss/articles/CBMiM2h0dHBzOi8vd3d3LmZ0dm5ld3MuY29tLnR3L25ld3MvZGV0YWlsLzIwMjM2MjJXMDE1NdIBN2h0dHBzOi8vd3d3LmZ0dm5ld3MuY29tLnR3L25ld3MvZGV0YWlsLzIwMjM2MjJXMDE1NS9hbXA?oc%3D5&gl=FR&hl=en-US&cm=2&pc=n&src=1', 'urlToImage': None, 'publishedAt': '2023-06-22T09:36:25Z', 'content': 'We use cookies and data to<ul><li>Deliver and maintain Google services</li><li>Track outages and protect against spam, fraud, and abuse</li><li>Measure audience engagement and site statistics to unde… [+1131 chars]'}, {'source': {'id': 'google-news', 'name': 'Google News'}, 'author': None, 'title': '看演出体验非遗手工技艺北京西城端午活动精彩纷呈 - beijing.qianlong.com', 'description': '看演出体验非遗手工技艺北京西城端午活动精彩纷呈\\xa0\\xa0beijing.qianlong.com', 'url': 'https://consent.google.com/ml?continue=https://news.google.com/rss/articles/CBMiNGh0dHBzOi8vYmVpamluZy5xaWFubG9uZy5jb20vMjAyMy8wNjIyLzgwNTYxNzEuc2h0bWzSAQA?oc%3D5&gl=FR&hl=en-US&cm=2&pc=n&src=1', 'urlToImage': None, 'publishedAt': '2023-06-22T09:34:00Z', 'content': 'We use cookies and data to<ul><li>Deliver and maintain Google services</li><li>Track outages and protect against spam, fraud, and abuse</li><li>Measure audience engagement and site statistics to unde… [+1131 chars]'}, {'source': {'id': 'google-news', 'name': 'Google News'}, 'author': None, 'title': '不忍了！遭葛斯齊爆料 瘦子發律師聲明提告 - Yahoo奇摩新聞', 'description': '<ol><li>不忍了！遭葛斯齊爆料 瘦子發律師聲明提告\\xa0\\xa0Yahoo奇摩新聞\\r\\n</li><li>酒店小姐控17年前遭瘦子性侵經紀公司：要提告｜東森新聞\\xa0\\xa0東森新聞\\r\\n</li><li>遭匿名爆料指控 瘦子硬起來4點聲明直接告！\\xa0\\xa0ETtoday星光雲\\r\\n</li><li>快新聞／「瘦子」遭控17年前性侵！ 火大告S小姐、葛斯齊加重誹謗\\xa0\\xa0民視新聞網FTVn\\r\\n</li><li>不忍了！瘦子遭不具名爆料所屬公司喊告：踐踏人格| 噓！星聞\\xa0\\xa0噓！星聞\\r\\n</li><li>前往 Google 新聞查看完整報導</l…', 'url': 'https://consent.google.com/ml?continue=https://news.google.com/rss/articles/CBMizQFodHRwczovL3R3Lm5ld3MueWFob28uY29tLyVFNCVCOCU4RCVFNSVCRiU4RCVFNCVCQSU4Ni0lRTklODElQUQlRTglOTElOUIlRTYlOTYlQUYlRTklQkQlOEElRTclODglODYlRTYlOTYlOTktJUU3JTk4JUE2JUU1JUFEJTkwJUU3JTk5JUJDJUU1JUJFJThCJUU1JUI4JUFCJUU4JTgxJUIyJUU2JTk4JThFJUU2JThGJTkwJUU1JTkxJThBLTA5MjczNzk2My5odG1s0gHVAWh0dHBzOi8vdHcubmV3cy55YWhvby5jb20vYW1waHRtbC8lRTQlQjglOEQlRTUlQkYlOEQlRTQlQkElODYtJUU5JTgxJUFEJUU4JTkxJTlCJUU2JTk2JUFGJUU5JUJEJThBJUU3JTg4JTg2JUU2JTk2JTk5LSVFNyU5OCVBNiVFNSVBRCU5MCVFNyU5OSVCQyVFNSVCRSU4QiVFNSVCOCVBQiVFOCU4MSVCMiVFNiU5OCU4RSVFNiU4RiU5MCVFNSU5MSU4QS0wOTI3Mzc5NjMuaHRtbA?oc%3D5&gl=FR&hl=en-US&cm=2&pc=n&src=1', 'urlToImage': None, 'publishedAt': '2023-06-22T09:27:37Z', 'content': 'We use cookies and data to<ul><li>Deliver and maintain Google services</li><li>Track outages and protect against spam, fraud, and abuse</li><li>Measure audience engagement and site statistics to unde… [+1131 chars]'}, {'source': {'id': 'google-news', 'name': 'Google News'}, 'author': None, 'title': '消费复苏的5个真相，藏在618的成绩单里｜特别策划 - 36kr', 'description': '消费复苏的5个真相，藏在618的成绩单里｜特别策划\\xa0\\xa036kr', 'url': 'https://consent.google.com/ml?continue=https://news.google.com/rss/articles/CBMiJ2h0dHBzOi8vd3d3LjM2a3IuY29tL3AvMjMxMjc0MDE2Mjk0MDE2MtIBAA?oc%3D5&gl=FR&hl=en-US&cm=2&pc=n&src=1', 'urlToImage': None, 'publishedAt': '2023-06-22T09:25:00Z', 'content': 'We use cookies and data to<ul><li>Deliver and maintain Google services</li><li>Track outages and protect against spam, fraud, and abuse</li><li>Measure audience engagement and site statistics to unde… [+1131 chars]'}, {'source': {'id': 'google-news', 'name': 'Google News'}, 'author': None, 'title': '最不容易“旧情复燃”的三个星座_复合_因为_射手 - 搜狐', 'description': '最不容易“旧情复燃”的三个星座_复合_因为_射手\\xa0\\xa0搜狐', 'url': 'https://consent.google.com/ml?continue=https://news.google.com/rss/articles/CBMiKWh0dHA6Ly93d3cuc29odS5jb20vYS82ODkyNzQ2NDdfMTIxNDE5OTQ40gEA?oc%3D5%26hl%3Den-CA%26gl%3DCA%26ceid%3DCA:en&gl=FR&hl=en-CA&cm=2&pc=n&src=1', 'urlToImage': None, 'publishedAt': '2023-06-22T09:25:00Z', 'content': 'We use cookies and data to<ul><li>Deliver and maintain Google services</li><li>Track outages and protect against spam, fraud, and abuse</li><li>Measure audience engagement and site statistics to unde… [+1131 chars]'}, {'source': {'id': 'google-news', 'name': 'Google News'}, 'author': None, 'title': '地灾黄色预警！凉山这些区域地灾风险较高 - 四川在线', 'description': '地灾黄色预警！凉山这些区域地灾风险较高\\xa0\\xa0四川在线', 'url': 'https://consent.google.com/ml?continue=https://news.google.com/rss/articles/CBMiM2h0dHBzOi8vZm9jdXMuc2NvbC5jb20uY24vemdzei8yMDIzMDYvNTg5MTkwODguaHRtbNIBAA?oc%3D5&gl=FR&hl=en-US&cm=2&pc=n&src=1', 'urlToImage': None, 'publishedAt': '2023-06-22T09:21:09Z', 'content': 'We use cookies and data to<ul><li>Deliver and maintain Google services</li><li>Track outages and protect against spam, fraud, and abuse</li><li>Measure audience engagement and site statistics to unde… [+1131 chars]'}, {'source': {'id': 'google-news', 'name': 'Google News'}, 'author': None, 'title': '《颂·黄钟大吕》在国家大剧院音乐厅上演 - China Daily', 'description': '《颂·黄钟大吕》在国家大剧院音乐厅上演\\xa0\\xa0China Daily', 'url': 'https://consent.google.com/ml?continue=https://news.google.com/rss/articles/CBMiR2h0dHA6Ly9jbi5jaGluYWRhaWx5LmNvbS5jbi9hLzIwMjMwNi8yMi9XUzY0OTQwYTVlYTMxMGJhOTRjNTYxMzBkMy5odG1s0gEA?oc%3D5&gl=FR&hl=en-US&cm=2&pc=n&src=1', 'urlToImage': None, 'publishedAt': '2023-06-22T09:18:00Z', 'content': 'We use cookies and data to<ul><li>Deliver and maintain Google services</li><li>Track outages and protect against spam, fraud, and abuse</li><li>Measure audience engagement and site statistics to unde… [+1131 chars]'}, {'source': {'id': 'google-news', 'name': 'Google News'}, 'author': None, 'title': 'NBA／試訓遭MJ挑釁！被嘴只是射手 準榜眼爆笑反嗆：健身房的路人 - Yahoo奇摩運動', 'description': 'NBA／試訓遭MJ挑釁！被嘴只是射手 準榜眼爆笑反嗆：健身房的路人\\xa0\\xa0Yahoo奇摩運動前往 Google 新聞查看完整報導', 'url': 'https://consent.google.com/ml?continue=https://news.google.com/rss/articles/CBMikQJodHRwczovL3R3LnNwb3J0cy55YWhvby5jb20vbmV3cy9uYmEtJUU4JUE5JUE2JUU4JUE4JTkzJUU5JTgxJUFEbWolRTYlOEMlOTElRTklODclODEtJUU4JUEyJUFCJUU1JTk4JUI0JUU1JThGJUFBJUU2JTk4JUFGJUU1JUIwJTg0JUU2JTg5JThCLSVFNiVCQSU5NiVFNiVBNiU5QyVFNyU5QyVCQyVFNyU4OCU4NiVFNyVBQyU5MSVFNSU4RiU4RCVFNSU5NyU4Ni0lRTUlODElQTUlRTglQkElQUIlRTYlODglQkYlRTclOUElODQlRTglQjclQUYlRTQlQkElQkEtMDkxNjE5NDc5Lmh0bWzSAZkCaHR0cHM6Ly90dy5zcG9ydHMueWFob28uY29tL2FtcGh0bWwvbmV3cy9uYmEtJUU4JUE5JUE2JUU4JUE4JTkzJUU5JTgxJUFEbWolRTYlOEMlOTElRTklODclODEtJUU4JUEyJUFCJUU1JTk4JUI0JUU1JThGJUFBJUU2JTk4JUFGJUU1JUIwJTg0JUU2JTg5JThCLSVFNiVCQSU5NiVFNiVBNiU5QyVFNyU5QyVCQyVFNyU4OCU4NiVFNyVBQyU5MSVFNSU4RiU4RCVFNSU5NyU4Ni0lRTUlODElQTUlRTglQkElQUIlRTYlODglQkYlRTclOUElODQlRTglQjclQUYlRTQl', 'urlToImage': None, 'publishedAt': '2023-06-22T09:16:19Z', 'content': 'We use cookies and data to<ul><li>Deliver and maintain Google services</li><li>Track outages and protect against spam, fraud, and abuse</li><li>Measure audience engagement and site statistics to unde… [+1131 chars]'}, {'source': {'id': 'google-news', 'name': 'Google News'}, 'author': None, 'title': '戴資穎29分鐘輕取印度小將 速闖台北羽球賽8強 - Yahoo奇摩新聞', 'description': '<ol><li>戴資穎29分鐘輕取印度小將 速闖台北羽球賽8強\\xa0\\xa0Yahoo奇摩新聞\\r\\n</li><li>28分搞定! 戴資穎晉級16強台北賽拚第5冠｜TVBS新聞@TVBSNEWS01\\xa0\\xa0TVBS NEWS\\r\\n</li><li>球迷喊「你是我的寶貝」！戴資穎有聽到：裁判也在笑\\xa0\\xa0Yahoo奇摩運動\\r\\n</li><li>戴資穎昨過29歲生日今台北公開賽拚第5冠｜TVBS新聞@TVBSNEWS01\\xa0\\xa0TVBS NEWS\\r\\n</li><li>前往 Google 新聞查看完整報導</li></ol>', 'url': 'https://consent.google.com/ml?continue=https://news.google.com/rss/articles/CBMi2AFodHRwczovL3R3Lm5ld3MueWFob28uY29tLyVFNiU4OCVCNCVFOCVCMyU4NyVFNyVBOSU4RTI5JUU1JTg4JTg2JUU5JTkwJTk4JUU4JUJDJTk1JUU1JThGJTk2JUU1JThEJUIwJUU1JUJBJUE2JUU1JUIwJThGJUU1JUIwJTg3LSVFOSU4MCU5RiVFOSU5NyU5NiVFNSU4RiVCMCVFNSU4QyU5NyVFNyVCRSVCRCVFNyU5MCU4MyVFOCVCMyVCRDglRTUlQkMlQjctMDkxMjU3MTk4Lmh0bWzSAeABaHR0cHM6Ly90dy5uZXdzLnlhaG9vLmNvbS9hbXBodG1sLyVFNiU4OCVCNCVFOCVCMyU4NyVFNyVBOSU4RTI5JUU1JTg4JTg2JUU5JTkwJTk4JUU4JUJDJTk1JUU1JThGJTk2JUU1JThEJUIwJUU1JUJBJUE2JUU1JUIwJThGJUU1JUIwJTg3LSVFOSU4MCU5RiVFOSU5NyU5NiVFNSU4RiVCMCVFNSU4QyU5NyVFNyVCRSVCRCVFNyU5MCU4MyVFOCVCMyVCRDglRTUlQkMlQjctMDkxMjU3MTk4Lmh0bWw?oc%3D5&gl=FR&hl=en-US&cm=2&pc=n&src=1', 'urlToImage': None, 'publishedAt': '2023-06-22T09:12:57Z', 'content': 'We use cookies and data to<ul><li>Deliver and maintain Google services</li><li>Track outages and protect against spam, fraud, and abuse</li><li>Measure audience engagement and site statistics to unde… [+1131 chars]'}, {'source': {'id': 'google-news', 'name': 'Google News'}, 'author': None, 'title': '龙舟竞渡正端午长三角龙舟邀请赛在金山山阳镇举行_新民社会 - 新民网', 'description': '龙舟竞渡正端午长三角龙舟邀请赛在金山山阳镇举行_新民社会\\xa0\\xa0新民网', 'url': 'https://consent.google.com/ml?continue=https://news.google.com/rss/articles/CBMiL2h0dHBzOi8vbmV3cy54aW5taW4uY24vMjAyMy8wNi8yMi8zMjQxMDg4Ni5odG1s0gEA?oc%3D5&gl=FR&hl=en-US&cm=2&pc=n&src=1', 'urlToImage': None, 'publishedAt': '2023-06-22T09:07:00Z', 'content': 'We use cookies and data to<ul><li>Deliver and maintain Google services</li><li>Track outages and protect against spam, fraud, and abuse</li><li>Measure audience engagement and site statistics to unde… [+1131 chars]'}, {'source': {'id': 'google-news', 'name': 'Google News'}, 'author': None, 'title': '在深海探索泰坦尼克號殘骸到底要冒多大的風險？ - BBC News 中文 - BBC', 'description': '<ol><li>在深海探索泰坦尼克號殘骸到底要冒多大的風險？ - BBC News 中文\\xa0\\xa0BBC\\r\\n</li><li>鐵達尼號觀光潛水器失聯 專家5年前就提安全隱憂\\xa0\\xa0經濟日報\\r\\n</li><li>有規律敲打聲！鐵達尼觀光潛艇失聯搜救燃希望\\xa0\\xa0新唐人亞太電視台NTDAPTV\\r\\n</li><li>鐵達尼觀光潛艇失蹤│佛州夫婦2月入稟法院 要求海洋之門創辦人退款\\xa0\\xa0加拿大星島日報\\r\\n</li><li>「泰坦號」有特殊設計！下潛24小時自動返回水面 失蹤3天原因成謎\\xa0\\xa0ETtoday新聞雲\\r\\n</li><li>前往 …', 'url': 'https://consent.google.com/ml?continue=https://news.google.com/rss/articles/CBMiMmh0dHBzOi8vd3d3LmJiYy5jb20vemhvbmd3ZW4vdHJhZC9zY2llbmNlLTY1OTgyMzcx0gE2aHR0cHM6Ly93d3cuYmJjLmNvbS96aG9uZ3dlbi90cmFkL3NjaWVuY2UtNjU5ODIzNzEuYW1w?oc%3D5%26hl%3Den-CA%26gl%3DCA%26ceid%3DCA:en&gl=FR&hl=en-CA&cm=2&pc=n&src=1', 'urlToImage': None, 'publishedAt': '2023-06-22T09:04:39Z', 'content': 'We use cookies and data to<ul><li>Deliver and maintain Google services</li><li>Track outages and protect against spam, fraud, and abuse</li><li>Measure audience engagement and site statistics to unde… [+1131 chars]'}, {'source': {'id': 'google-news', 'name': 'Google News'}, 'author': None, 'title': '健康網》「多走路」好處多醫：死亡、癌症及心血管疾病風險都降低- 自由健康網 - 自由時報', 'description': '健康網》「多走路」好處多醫：死亡、癌症及心血管疾病風險都降低- 自由健康網\\xa0\\xa0自由時報', 'url': 'https://consent.google.com/ml?continue=https://news.google.com/rss/articles/CBMiNmh0dHBzOi8vaGVhbHRoLmx0bi5jb20udHcvYXJ0aWNsZS9icmVha2luZ25ld3MvNDM0MjE1NtIBAA?oc%3D5&gl=FR&hl=en-US&cm=2&pc=n&src=1', 'urlToImage': None, 'publishedAt': '2023-06-22T09:01:00Z', 'content': 'We use cookies and data to<ul><li>Deliver and maintain Google services</li><li>Track outages and protect against spam, fraud, and abuse</li><li>Measure audience engagement and site statistics to unde… [+1131 chars]'}, {'source': {'id': 'google-news', 'name': 'Google News'}, 'author': None, 'title': '健康網》「多走路」好處多 醫：死亡、癌症及心血管疾病風險都降低 - 自由時報', 'description': '健康網》「多走路」好處多 醫：死亡、癌症及心血管疾病風險都降低\\xa0\\xa0自由時報', 'url': 'https://consent.google.com/ml?continue=https://news.google.com/rss/articles/CBMiNmh0dHBzOi8vaGVhbHRoLmx0bi5jb20udHcvYXJ0aWNsZS9icmVha2luZ25ld3MvNDM0MjE1NtIBOmh0dHBzOi8vaGVhbHRoLmx0bi5jb20udHcvYW1wL2FydGljbGUvYnJlYWtpbmduZXdzLzQzNDIxNTY?oc%3D5&gl=FR&hl=en-US&cm=2&pc=n&src=1', 'urlToImage': None, 'publishedAt': '2023-06-22T09:01:00Z', 'content': 'We use cookies and data to<ul><li>Deliver and maintain Google services</li><li>Track outages and protect against spam, fraud, and abuse</li><li>Measure audience engagement and site statistics to unde… [+1131 chars]'}, {'source': {'id': 'google-news', 'name': 'Google News'}, 'author': None, 'title': '宁夏银川烧烤店爆炸事故9名责任人已被控制-国内频道-内蒙古新闻网 - 国内', 'description': '宁夏银川烧烤店爆炸事故9名责任人已被控制-国内频道-内蒙古新闻网\\xa0\\xa0国内在Google 新闻上查看完整报道', 'url': 'https://consent.google.com/ml?continue=https://news.google.com/rss/articles/CBMiPWh0dHA6Ly9jaGluYS5ubWduZXdzLmNvbS5jbi9zeXN0ZW0vMjAyMy8wNi8yMi8wMTM0NTE1NDQuc2h0bWzSAQA?oc%3D5&gl=FR&hl=en-US&cm=2&pc=n&src=1', 'urlToImage': None, 'publishedAt': '2023-06-22T08:50:00Z', 'content': 'We use cookies and data to<ul><li>Deliver and maintain Google services</li><li>Track outages and protect against spam, fraud, and abuse</li><li>Measure audience engagement and site statistics to unde… [+1131 chars]'}, {'source': {'id': 'google-news', 'name': 'Google News'}, 'author': None, 'title': '三明：端午粽飘香双拥情意浓 - 东南网', 'description': '三明：端午粽飘香双拥情意浓\\xa0\\xa0东南网', 'url': 'https://consent.google.com/ml?continue=https://news.google.com/rss/articles/CBMiM2h0dHA6Ly9zbS5manNlbi5jb20vMjAyMy0wNi8yMi9jb250ZW50XzMxMzQ1MjkwLmh0bdIBAA?oc%3D5&gl=FR&hl=en-US&cm=2&pc=n&src=1', 'urlToImage': None, 'publishedAt': '2023-06-22T08:49:31Z', 'content': 'We use cookies and data to<ul><li>Deliver and maintain Google services</li><li>Track outages and protect against spam, fraud, and abuse</li><li>Measure audience engagement and site statistics to unde… [+1131 chars]'}, {'source': {'id': 'google-news', 'name': 'Google News'}, 'author': None, 'title': '浓情端午 儋州武警官兵与群众携手包粽子过节-新闻中心 - 南海网', 'description': '浓情端午 儋州武警官兵与群众携手包粽子过节-新闻中心\\xa0\\xa0南海网', 'url': 'https://consent.google.com/ml?continue=https://news.google.com/rss/articles/CBMiO2h0dHA6Ly93d3cuaGluZXdzLmNuL25ld3Mvc3lzdGVtLzIwMjMvMDYvMjIvMDMyOTk2NjQ3LnNodG1s0gEA?oc%3D5&gl=FR&hl=en-US&cm=2&pc=n&src=1', 'urlToImage': None, 'publishedAt': '2023-06-22T08:49:00Z', 'content': 'We use cookies and data to<ul><li>Deliver and maintain Google services</li><li>Track outages and protect against spam, fraud, and abuse</li><li>Measure audience engagement and site statistics to unde… [+1131 chars]'}, {'source': {'id': 'google-news', 'name': 'Google News'}, 'author': None, 'title': '赏国粹品非遗北京西城端午节尽显文化范儿 - 人民网北京视窗', 'description': '赏国粹品非遗北京西城端午节尽显文化范儿\\xa0\\xa0人民网北京视窗', 'url': 'https://consent.google.com/ml?continue=https://news.google.com/rss/articles/CBMiOWh0dHA6Ly9iai5wZW9wbGUuY29tLmNuL24yLzIwMjMvMDYyMi9jODI4MzgtNDA0NjczNjYuaHRtbNIBAA?oc%3D5%26hl%3Den-CA%26gl%3DCA%26ceid%3DCA:en&gl=FR&hl=en-CA&cm=2&pc=n&src=1', 'urlToImage': None, 'publishedAt': '2023-06-22T08:47:00Z', 'content': 'We use cookies and data to<ul><li>Deliver and maintain Google services</li><li>Track outages and protect against spam, fraud, and abuse</li><li>Measure audience engagement and site statistics to unde… [+1131 chars]'}, {'source': {'id': 'google-news', 'name': 'Google News'}, 'author': None, 'title': '首都艺术家走进京东总部送端午祝福 - beijing.qianlong.com', 'description': '首都艺术家走进京东总部送端午祝福\\xa0\\xa0beijing.qianlong.com', 'url': 'https://consent.google.com/ml?continue=https://news.google.com/rss/articles/CBMiNGh0dHBzOi8vYmVpamluZy5xaWFubG9uZy5jb20vMjAyMy8wNjIyLzgwNTYxNTguc2h0bWzSAQA?oc%3D5&gl=FR&hl=en-US&cm=2&pc=n&src=1', 'urlToImage': None, 'publishedAt': '2023-06-22T08:47:00Z', 'content': 'We use cookies and data to<ul><li>Deliver and maintain Google services</li><li>Track outages and protect against spam, fraud, and abuse</li><li>Measure audience engagement and site statistics to unde… [+1131 chars]'}, {'source': {'id': 'google-news', 'name': 'Google News'}, 'author': None, 'title': '陕西：十年来毒品犯罪案件总体数量降幅达87.79% - 华商网', 'description': '<ol><li>陕西：十年来毒品犯罪案件总体数量降幅达87.79%\\xa0\\xa0华商网\\r\\n</li><li>国家禁毒办：截至2022年底我国现有吸毒人员112.4万名——中国青年网\\xa0\\xa0中青网\\r\\n</li><li>在Google 新闻上查看完整报道</li></ol>', 'url': 'https://consent.google.com/ml?continue=https://news.google.com/rss/articles/CBMiMWh0dHA6Ly9uZXdzLmhzdy5jbi9zeXN0ZW0vMjAyMy8wNjIyLzE2Mzg0MjEuc2h0bWzSAQA?oc%3D5&gl=FR&hl=en-US&cm=2&pc=n&src=1', 'urlToImage': None, 'publishedAt': '2023-06-22T08:39:21Z', 'content': 'We use cookies and data to<ul><li>Deliver and maintain Google services</li><li>Track outages and protect against spam, fraud, and abuse</li><li>Measure audience engagement and site statistics to unde… [+1131 chars]'}, {'source': {'id': 'google-news', 'name': 'Google News'}, 'author': None, 'title': '烏龜挖地道逃家！德牧帶毯子鑽下去送別「害全員卡在洞裡」秒變雷隊友 - 寵物部落', 'description': '烏龜挖地道逃家！德牧帶毯子鑽下去送別「害全員卡在洞裡」秒變雷隊友\\xa0\\xa0寵物部落', 'url': 'https://consent.google.com/ml?continue=https://news.google.com/rss/articles/CBMiLmh0dHBzOi8vcGV0cy51ZG4uY29tL3BldHMvc3RvcnkvMTIyNjc0LzcyNTMyMTnSATJodHRwczovL3BldHMudWRuLmNvbS9wZXRzL2FtcC9zdG9yeS8xMjI2NzQvNzI1MzIxOQ?oc%3D5&gl=FR&hl=en-US&cm=2&pc=n&src=1', 'urlToImage': None, 'publishedAt': '2023-06-22T08:34:16Z', 'content': 'We use cookies and data to<ul><li>Deliver and maintain Google services</li><li>Track outages and protect against spam, fraud, and abuse</li><li>Measure audience engagement and site statistics to unde… [+1131 chars]'}, {'source': {'id': 'google-news', 'name': 'Google News'}, 'author': None, 'title': '端午連假首日桃機運量 估逾11萬人創上半年新高 - 經濟日報', 'description': '<ol><li>端午連假首日桃機運量 估逾11萬人創上半年新高\\xa0\\xa0經濟日報\\r\\n</li><li>端午連假桃機人潮曝！單日出入境衝破11萬 創今年新高\\xa0\\xa0Yahoo奇摩新聞\\r\\n</li><li>端午4天瘋出國！桃機人潮畫面曝 今運量「衝破11萬」創今年新高\\xa0\\xa0ETtoday新聞雲\\r\\n</li><li>桃機估端午連假運量攀高6/22可望逾11萬人次| 生活\\xa0\\xa0中央社即時新聞\\r\\n</li><li>桃機估單日運量達11萬人次 旅客提前4小時報到｜#鏡新聞\\xa0\\xa0Yahoo奇摩新聞\\r\\n</li><li>前往 Google 新聞…', 'url': 'https://consent.google.com/ml?continue=https://news.google.com/rss/articles/CBMiLmh0dHBzOi8vbW9uZXkudWRuLmNvbS9tb25leS9zdG9yeS81OTMwLzcyNTMyMjjSATNodHRwczovL21vbmV5LnVkbi5jb20vbW9uZXkvYW1wL3N0b3J5LzEwODcxLzcyNTMyMjg?oc%3D5&gl=FR&hl=en-US&cm=2&pc=n&src=1', 'urlToImage': None, 'publishedAt': '2023-06-22T08:30:46Z', 'content': 'We use cookies and data to<ul><li>Deliver and maintain Google services</li><li>Track outages and protect against spam, fraud, and abuse</li><li>Measure audience engagement and site statistics to unde… [+1131 chars]'}, {'source': {'id': 'google-news', 'name': 'Google News'}, 'author': None, 'title': '108坊故事| 端午到紫薇田园都市社区粽子飘香- 西安 - 华商网', 'description': '108坊故事| 端午到紫薇田园都市社区粽子飘香- 西安\\xa0\\xa0华商网', 'url': 'https://consent.google.com/ml?continue=https://news.google.com/rss/articles/CBMiMWh0dHA6Ly9uZXdzLmhzdy5jbi9zeXN0ZW0vMjAyMy8wNjIyLzE2Mzg0MTYuc2h0bWzSAQA?oc%3D5&gl=FR&hl=en-US&cm=2&pc=n&src=1', 'urlToImage': None, 'publishedAt': '2023-06-22T08:26:33Z', 'content': 'We use cookies and data to<ul><li>Deliver and maintain Google services</li><li>Track outages and protect against spam, fraud, and abuse</li><li>Measure audience engagement and site statistics to unde… [+1131 chars]'}, {'source': {'id': 'google-news', 'name': 'Google News'}, 'author': None, 'title': '龙卷风再袭美国得州致3人死亡_国际新闻_新闻中心 - 新闻', 'description': '龙卷风再袭美国得州致3人死亡_国际新闻_新闻中心\\xa0\\xa0新闻', 'url': 'https://consent.google.com/ml?continue=https://news.google.com/rss/articles/CBMiOWh0dHBzOi8vbmV3cy5zeWQuY29tLmNuL3N5c3RlbS8yMDIzLzA2LzIyLzAxMjEwNTg4My5zaHRtbNIBAA?oc%3D5&gl=FR&hl=en-US&cm=2&pc=n&src=1', 'urlToImage': None, 'publishedAt': '2023-06-22T08:26:00Z', 'content': 'We use cookies and data to<ul><li>Deliver and maintain Google services</li><li>Track outages and protect against spam, fraud, and abuse</li><li>Measure audience engagement and site statistics to unde… [+1131 chars]'}, {'source': {'id': 'google-news', 'name': 'Google News'}, 'author': None, 'title': '黃子佼出院後現況張小燕8字回應了｜東森新聞 - 東森新聞', 'description': '<ol><li>黃子佼出院後現況張小燕8字回應了｜東森新聞\\xa0\\xa0東森新聞\\r\\n</li><li>黃子佼出院第3天傷勢如何？張小燕鬆口回應了\\xa0\\xa0Yahoo奇摩新聞\\r\\n</li><li>黃子佼低調出院day 3 張小燕被問病況！鬆口吐8字\\xa0\\xa0三立新聞網 Setn.com\\r\\n</li><li>黃子佼剛出院.....臉書帳號恢復？網一看傻眼：沒有時差\\xa0\\xa0噓！星聞\\r\\n</li><li>吳宗憲三片連發 否認私生活混亂\\xa0\\xa0加拿大星島日報\\r\\n</li><li>前往 Google 新聞查看完整報導</li></ol>', 'url': 'https://consent.google.com/ml?continue=https://news.google.com/rss/articles/CBMiMWh0dHBzOi8vbmV3cy5lYmMubmV0LnR3L25ld3MvZW50ZXJ0YWlubWVudC8zNzEwMzfSAQA?oc%3D5&gl=FR&hl=en&cm=2&pc=n&src=1', 'urlToImage': None, 'publishedAt': '2023-06-22T08:24:00Z', 'content': 'We use cookies and data to<ul><li>Deliver and maintain Google services</li><li>Track outages and protect against spam, fraud, and abuse</li><li>Measure audience engagement and site statistics to unde… [+1131 chars]'}, {'source': {'id': 'google-news', 'name': 'Google News'}, 'author': None, 'title': '黃子佼閃辭節目主持 李㼈19歲女兒震驚「曝他錄影現場一面」 - ETtoday星光雲', 'description': '<ol><li>黃子佼閃辭節目主持 李㼈19歲女兒震驚「曝他錄影現場一面」\\xa0\\xa0ETtoday星光雲\\r\\n</li><li>「未來少女」黃子佼僅現身第一集! 製作單位:以身體因素為由不參與錄製｜TVBS娛樂頭條@tvbsnews02\\xa0\\xa0TVBS選新聞\\r\\n</li><li>黃子佼精神崩潰靜養中 節目、代言、主持全數停擺｜#鏡新聞\\xa0\\xa0Yahoo奇摩新聞\\r\\n</li><li>獨家／黃子佼性騷請辭！李㼈19歲愛女驚遭牽連 「私下互動」曝光\\xa0\\xa0三立新聞網 Setn.com\\r\\n</li><li>辭退女團養成節目黃子佼疑陷「選擇性…', 'url': 'https://consent.google.com/ml?continue=https://news.google.com/rss/articles/CBMiJWh0dHBzOi8vc3Rhci5ldHRvZGF5Lm5ldC9uZXdzLzI1MjU1MzDSATpodHRwczovL3N0YXIuZXR0b2RheS5uZXQvYW1wL2FtcF9uZXdzLnBocDc_bmV3c19pZD0yNTI1NTMw?oc%3D5%26hl%3Den-CA%26gl%3DCA%26ceid%3DCA:en&gl=FR&hl=en-CA&cm=2&pc=n&src=1', 'urlToImage': None, 'publishedAt': '2023-06-22T08:22:00Z', 'content': 'We use cookies and data to<ul><li>Deliver and maintain Google services</li><li>Track outages and protect against spam, fraud, and abuse</li><li>Measure audience engagement and site statistics to unde… [+1131 chars]'}, {'source': {'id': 'google-news', 'name': 'Google News'}, 'author': None, 'title': '戴資穎直落二輕鬆寫意進8強挑戰台北賽生涯第5冠又進一步 - Yahoo奇摩新聞', 'description': '<ol><li>戴資穎直落二輕鬆寫意進8強挑戰台北賽生涯第5冠又進一步\\xa0\\xa0Yahoo奇摩新聞\\r\\n</li><li>28分搞定! 戴資穎晉級16強台北賽拚第5冠｜TVBS新聞@TVBSNEWS01\\xa0\\xa0TVBS NEWS\\r\\n</li><li>球迷喊「你是我的寶貝」！戴資穎有聽到：裁判也在笑\\xa0\\xa0Yahoo奇摩運動\\r\\n</li><li>28分搞定! 戴資穎晉級16強台北賽拚第5冠｜TVBS新聞@tvbsnews02\\xa0\\xa0TVBS選新聞\\r\\n</li><li>前往 Google 新聞查看完整報導</li></ol>', 'url': 'https://consent.google.com/ml?continue=https://news.google.com/rss/articles/CBMihQJodHRwczovL3R3Lm5ld3MueWFob28uY29tLyVFNiU4OCVCNCVFOCVCMyU4NyVFNyVBOSU4RSVFNyU5QiVCNCVFOCU5MCVCRCVFNCVCQSU4QyVFOCVCQyU5NSVFOSVBQyU4NiVFNSVBRiVBQiVFNiU4NCU4RiVFOSU4MCVCMjglRTUlQkMlQjctJUU2JThDJTkxJUU2JTg4JUIwJUU1JThGJUIwJUU1JThDJTk3JUU4JUIzJUJEJUU3JTk0JTlGJUU2JUI2JUFGJUU3JUFDJUFDNSVFNSU4NiVBMCVFNSU4RiU4OCVFOSU4MCVCMi0lRTYlQUQlQTUtMDgxNTIzNTM0Lmh0bWzSAQA?oc%3D5&gl=FR&hl=en-US&cm=2&pc=n&src=1', 'urlToImage': None, 'publishedAt': '2023-06-22T08:15:23Z', 'content': 'We use cookies and data to<ul><li>Deliver and maintain Google services</li><li>Track outages and protect against spam, fraud, and abuse</li><li>Measure audience engagement and site statistics to unde… [+1131 chars]'}, {'source': {'id': 'google-news', 'name': 'Google News'}, 'author': None, 'title': '刘德华林嘉欣再演夫妻，帮助柯受良儿子圆电影梦 - ent.ycwb.com', 'description': '刘德华林嘉欣再演夫妻，帮助柯受良儿子圆电影梦\\xa0\\xa0ent.ycwb.com', 'url': 'https://consent.google.com/ml?continue=https://news.google.com/rss/articles/CBMiNGh0dHBzOi8vZW50Lnljd2IuY29tLzIwMjMtMDYvMjIvY29udGVudF81MjAyNTI0My5odG3SAQA?oc%3D5&gl=FR&hl=en-US&cm=2&pc=n&src=1', 'urlToImage': None, 'publishedAt': '2023-06-22T08:13:52Z', 'content': 'We use cookies and data to<ul><li>Deliver and maintain Google services</li><li>Track outages and protect against spam, fraud, and abuse</li><li>Measure audience engagement and site statistics to unde… [+1131 chars]'}, {'source': {'id': 'google-news', 'name': 'Google News'}, 'author': None, 'title': '美国政府被起诉！美军燃油泄漏致数千人患病_国际新闻_新闻中心 - 新闻', 'description': '美国政府被起诉！美军燃油泄漏致数千人患病_国际新闻_新闻中心\\xa0\\xa0新闻', 'url': 'https://consent.google.com/ml?continue=https://news.google.com/rss/articles/CBMiOWh0dHBzOi8vbmV3cy5zeWQuY29tLmNuL3N5c3RlbS8yMDIzLzA2LzIyLzAxMjEwNTg3Ny5zaHRtbNIBAA?oc%3D5&gl=FR&hl=en-US&cm=2&pc=n&src=1', 'urlToImage': None, 'publishedAt': '2023-06-22T08:10:00Z', 'content': 'We use cookies and data to<ul><li>Deliver and maintain Google services</li><li>Track outages and protect against spam, fraud, and abuse</li><li>Measure audience engagement and site statistics to unde… [+1131 chars]'}, {'source': {'id': 'google-news', 'name': 'Google News'}, 'author': None, 'title': '世界名湖遇见“文化名人”，端午佳节东湖听涛传承经典_要闻_新闻中心_长江网_cjn.cn - 长江网', 'description': '世界名湖遇见“文化名人”，端午佳节东湖听涛传承经典_要闻_新闻中心_长江网_cjn.cn\\xa0\\xa0长江网', 'url': 'https://consent.google.com/ml?continue=https://news.google.com/rss/articles/CBMiNGh0dHA6Ly9uZXdzLmNqbi5jbi93aHBkL3l3XzE5OTQ3LzIwMjMwNi90NDU5NzY3My5odG3SAQA?oc%3D5&gl=FR&hl=en-US&cm=2&pc=n&src=1', 'urlToImage': None, 'publishedAt': '2023-06-22T08:07:00Z', 'content': 'We use cookies and data to<ul><li>Deliver and maintain Google services</li><li>Track outages and protect against spam, fraud, and abuse</li><li>Measure audience engagement and site statistics to unde… [+1131 chars]'}, {'source': {'id': 'google-news', 'name': 'Google News'}, 'author': None, 'title': '乡村之美丨美丽经济，有多少种打开方式 - 南方网', 'description': '<ol><li>乡村之美丨美丽经济，有多少种打开方式\\xa0\\xa0南方网\\r\\n</li><li>乡村之美丨为什么绿水青山就是金山银山？“千万工程”给你答案-新华网\\xa0\\xa0新华网\\r\\n</li><li>【每日一习话·乡村之美】打造农民安居乐业的美丽家园-新华网\\xa0\\xa0新华网\\r\\n</li><li>乡村之美｜谋划乡村产业总书记要求把这3个字琢磨透-新华网\\xa0\\xa0新华网\\r\\n</li><li>在Google 新闻上查看完整报道</li></ol>', 'url': 'https://consent.google.com/ml?continue=https://news.google.com/rss/articles/CBMiOWh0dHBzOi8vbmV3cy5zb3V0aGNuLmNvbS9ub2RlXzE3OWQyOWYxY2UvZDRjNWIxZDQyMC5zaHRtbNIBAA?oc%3D5&gl=FR&hl=en-US&cm=2&pc=n&src=1', 'urlToImage': None, 'publishedAt': '2023-06-22T07:56:00Z', 'content': 'We use cookies and data to<ul><li>Deliver and maintain Google services</li><li>Track outages and protect against spam, fraud, and abuse</li><li>Measure audience engagement and site statistics to unde… [+1131 chars]'}, {'source': {'id': 'google-news', 'name': 'Google News'}, 'author': None, 'title': '中国男足友谊赛2:0战胜巴勒斯坦队 - 广西新闻网', 'description': '<ol><li>中国男足友谊赛2:0战胜巴勒斯坦队\\xa0\\xa0广西新闻网\\r\\n</li><li>国足主帅:我们配得上这场胜利也暴露出一些问题-手机闽南网\\xa0\\xa0闽南网\\r\\n</li><li>中国队2:0战胜巴勒斯坦队收获主场两连胜\\xa0\\xa0环球网\\r\\n</li><li>国足热身赛2-0巴勒斯坦，终结14年不胜对手尴尬纪录\\xa0\\xa0瞭望东方周刊\\r\\n</li><li>热身赛-武磊破门蒋光太处子球国足2-0巴勒斯坦_比赛_禁区_头球攻门\\xa0\\xa0搜狐\\r\\n</li><li>在Google 新闻上查看完整报道</li></ol>', 'url': 'https://consent.google.com/ml?continue=https://news.google.com/rss/articles/CBMiS2h0dHA6Ly9uZXdzLmd4bmV3cy5jb20uY24vc3RhdGljcGFnZXMvMjAyMzA2MjIvbmV3Z3g2NDkzZmNlZi0yMTE5NjE5Ny5zaHRtbNIBAA?oc%3D5&gl=FR&hl=en-US&cm=2&pc=n&src=1', 'urlToImage': None, 'publishedAt': '2023-06-22T07:49:00Z', 'content': 'We use cookies and data to<ul><li>Deliver and maintain Google services</li><li>Track outages and protect against spam, fraud, and abuse</li><li>Measure audience engagement and site statistics to unde… [+1131 chars]'}, {'source': {'id': 'google-news', 'name': 'Google News'}, 'author': None, 'title': '泽连斯基解除乌克兰驻白俄罗斯大使职务 - 环球网', 'description': '泽连斯基解除乌克兰驻白俄罗斯大使职务\\xa0\\xa0环球网', 'url': 'https://consent.google.com/ml?continue=https://news.google.com/rss/articles/CBMiLGh0dHA6Ly93b3JsZC5odWFucWl1LmNvbS9hcnRpY2xlLzREUTlVbTZ5c1Bn0gEA?oc%3D5&gl=FR&hl=en-US&cm=2&pc=n&src=1', 'urlToImage': None, 'publishedAt': '2023-06-22T07:49:00Z', 'content': 'We use cookies and data to<ul><li>Deliver and maintain Google services</li><li>Track outages and protect against spam, fraud, and abuse</li><li>Measure audience engagement and site statistics to unde… [+1131 chars]'}]\n"
          ]
        }
      ]
    },
    {
      "cell_type": "markdown",
      "metadata": {
        "id": "tHvIf_CjvJZZ"
      },
      "source": [
        "## 生成新闻文章的嵌入向量"
      ]
    },
    {
      "cell_type": "code",
      "execution_count": 32,
      "metadata": {
        "id": "xXZjH9DsvJZa"
      },
      "outputs": [],
      "source": [
        "docs = [\n",
        "    a[\"title\"] + \"\\n\\n\" + (a[\"description\"] or \"\")\n",
        "    for a in recent_articles\n",
        "]"
      ]
    },
    {
      "cell_type": "code",
      "execution_count": 33,
      "metadata": {
        "id": "qNW0eB9uvJZa"
      },
      "outputs": [],
      "source": [
        "embeddings = OpenAIEmbeddings(chunk_size=1000).embed_documents(docs)"
      ]
    },
    {
      "cell_type": "markdown",
      "metadata": {
        "id": "UDU4gksRvJZa"
      },
      "source": [
        "## 对文件进行聚类，并将结果存储在一个 dataframe 中"
      ]
    },
    {
      "cell_type": "code",
      "execution_count": 34,
      "metadata": {
        "id": "lUMMPJz1vJZb"
      },
      "outputs": [],
      "source": [
        "hdb = hdbscan.HDBSCAN(gen_min_span_tree=True, min_samples=3, min_cluster_size=3).fit(embeddings)"
      ]
    },
    {
      "cell_type": "code",
      "execution_count": 35,
      "metadata": {
        "id": "FjTBbPYFvJZb"
      },
      "outputs": [],
      "source": [
        "df = pd.DataFrame({\n",
        "    \"title\": [article[\"title\"] for article in recent_articles],\n",
        "    \"description\": [article[\"description\"] for article in recent_articles],\n",
        "    \"cluster\": hdb.labels_,\n",
        "})\n",
        "df = df.query(\"cluster != -1\") # 删除不在群集中的文档"
      ]
    },
    {
      "cell_type": "markdown",
      "metadata": {
        "id": "mAAqX_yyvJZc"
      },
      "source": [
        "## 从每个聚类的文件中创建聚类主题"
      ]
    },
    {
      "cell_type": "code",
      "execution_count": 36,
      "metadata": {
        "id": "vqqrC-EZvJZc"
      },
      "outputs": [],
      "source": [
        "\n",
        "\n",
        "\n",
        "def get_prompt():\n",
        "    system_template = \"你是一位记者专家。你要帮我为新闻文章写一个引人注目的主题标题。\"\n",
        "    human_template = \"使用以下文章，写一个能概括这些文章的主题标题。\\n\\nARTICLES:{articles}\\n\\nTOPIC TITLE:\"\n",
        "\n",
        "    return ChatPromptTemplate(\n",
        "        messages=[\n",
        "            SystemMessagePromptTemplate.from_template(system_template),\n",
        "            HumanMessagePromptTemplate.from_template(human_template),\n",
        "        ],\n",
        "        input_variables=[\"articles\"],\n",
        "    )\n",
        "\n",
        "\n",
        "articles_str = \"\\n\\n\".join(\n",
        "    [article[\"title\"] + \"\\n\\n\" + (article[\"description\"] or \"\") for article in recent_articles]\n",
        ")\n",
        "\n",
        "prompt = get_prompt()\n",
        "\n",
        "for c in df.cluster.unique():\n",
        "    chain = LLMChain(\n",
        "        llm=ChatOpenAI(temperature=0, model_name=\"gpt-3.5-turbo-0613\"), prompt=prompt, verbose=False\n",
        "    )\n",
        "    articles_str = \"\\n\".join(\n",
        "        [\n",
        "            f\"{article['title']}\\n{article['description']}\\n\"\n",
        "            for article in df.query(f\"cluster == {c}\").to_dict(orient=\"records\")\n",
        "        ]\n",
        "    )\n",
        "    result = chain.run(\n",
        "        {\n",
        "            \"articles\": articles_str,\n",
        "        }\n",
        "    )\n",
        "    df.loc[df.cluster == c, \"topic_title\"] = result"
      ]
    },
    {
      "cell_type": "code",
      "execution_count": 41,
      "metadata": {
        "colab": {
          "base_uri": "https://localhost:8080/",
          "height": 355
        },
        "id": "fV2OgrYQvJZc",
        "outputId": "40ec4025-89c1-4afc-e361-fac63510e6b4"
      },
      "outputs": [
        {
          "output_type": "stream",
          "name": "stdout",
          "text": [
            "\"粽情端午：龙舟竞渡、非遗手工技艺和粽子包制活动丰富多彩\"\n"
          ]
        },
        {
          "output_type": "display_data",
          "data": {
            "text/plain": [
              "                                             title  \\\n",
              "11               龙舟竞渡华亭湖！松江区第十三届端午龙舟赛上午开赛_郊野 - 新民网   \n",
              "17           端午假期首日长三角铁路迎来客流高峰预计发送旅客340万人次 - 无锡新传媒   \n",
              "19  看演出体验非遗手工技艺北京西城端午活动精彩纷呈 - beijing.qianlong.com   \n",
              "24               《颂·黄钟大吕》在国家大剧院音乐厅上演 - China Daily   \n",
              "27              龙舟竞渡正端午长三角龙舟邀请赛在金山山阳镇举行_新民社会 - 新民网   \n",
              "\n",
              "                                      description  cluster  \\\n",
              "11               龙舟竞渡华亭湖！松江区第十三届端午龙舟赛上午开赛_郊野  新民网        1   \n",
              "17           端午假期首日长三角铁路迎来客流高峰预计发送旅客340万人次  无锡新传媒        1   \n",
              "19  看演出体验非遗手工技艺北京西城端午活动精彩纷呈  beijing.qianlong.com        1   \n",
              "24               《颂·黄钟大吕》在国家大剧院音乐厅上演  China Daily        1   \n",
              "27              龙舟竞渡正端午长三角龙舟邀请赛在金山山阳镇举行_新民社会  新民网        1   \n",
              "\n",
              "                      topic_title  \n",
              "11  \"粽情端午：龙舟竞渡、非遗手工技艺和粽子包制活动丰富多彩\"  \n",
              "17  \"粽情端午：龙舟竞渡、非遗手工技艺和粽子包制活动丰富多彩\"  \n",
              "19  \"粽情端午：龙舟竞渡、非遗手工技艺和粽子包制活动丰富多彩\"  \n",
              "24  \"粽情端午：龙舟竞渡、非遗手工技艺和粽子包制活动丰富多彩\"  \n",
              "27  \"粽情端午：龙舟竞渡、非遗手工技艺和粽子包制活动丰富多彩\"  "
            ],
            "text/html": [
              "\n",
              "  <div id=\"df-3540fe81-4493-4aa6-a7aa-ac66002c39c3\">\n",
              "    <div class=\"colab-df-container\">\n",
              "      <div>\n",
              "<style scoped>\n",
              "    .dataframe tbody tr th:only-of-type {\n",
              "        vertical-align: middle;\n",
              "    }\n",
              "\n",
              "    .dataframe tbody tr th {\n",
              "        vertical-align: top;\n",
              "    }\n",
              "\n",
              "    .dataframe thead th {\n",
              "        text-align: right;\n",
              "    }\n",
              "</style>\n",
              "<table border=\"1\" class=\"dataframe\">\n",
              "  <thead>\n",
              "    <tr style=\"text-align: right;\">\n",
              "      <th></th>\n",
              "      <th>title</th>\n",
              "      <th>description</th>\n",
              "      <th>cluster</th>\n",
              "      <th>topic_title</th>\n",
              "    </tr>\n",
              "  </thead>\n",
              "  <tbody>\n",
              "    <tr>\n",
              "      <th>11</th>\n",
              "      <td>龙舟竞渡华亭湖！松江区第十三届端午龙舟赛上午开赛_郊野 - 新民网</td>\n",
              "      <td>龙舟竞渡华亭湖！松江区第十三届端午龙舟赛上午开赛_郊野  新民网</td>\n",
              "      <td>1</td>\n",
              "      <td>\"粽情端午：龙舟竞渡、非遗手工技艺和粽子包制活动丰富多彩\"</td>\n",
              "    </tr>\n",
              "    <tr>\n",
              "      <th>17</th>\n",
              "      <td>端午假期首日长三角铁路迎来客流高峰预计发送旅客340万人次 - 无锡新传媒</td>\n",
              "      <td>端午假期首日长三角铁路迎来客流高峰预计发送旅客340万人次  无锡新传媒</td>\n",
              "      <td>1</td>\n",
              "      <td>\"粽情端午：龙舟竞渡、非遗手工技艺和粽子包制活动丰富多彩\"</td>\n",
              "    </tr>\n",
              "    <tr>\n",
              "      <th>19</th>\n",
              "      <td>看演出体验非遗手工技艺北京西城端午活动精彩纷呈 - beijing.qianlong.com</td>\n",
              "      <td>看演出体验非遗手工技艺北京西城端午活动精彩纷呈  beijing.qianlong.com</td>\n",
              "      <td>1</td>\n",
              "      <td>\"粽情端午：龙舟竞渡、非遗手工技艺和粽子包制活动丰富多彩\"</td>\n",
              "    </tr>\n",
              "    <tr>\n",
              "      <th>24</th>\n",
              "      <td>《颂·黄钟大吕》在国家大剧院音乐厅上演 - China Daily</td>\n",
              "      <td>《颂·黄钟大吕》在国家大剧院音乐厅上演  China Daily</td>\n",
              "      <td>1</td>\n",
              "      <td>\"粽情端午：龙舟竞渡、非遗手工技艺和粽子包制活动丰富多彩\"</td>\n",
              "    </tr>\n",
              "    <tr>\n",
              "      <th>27</th>\n",
              "      <td>龙舟竞渡正端午长三角龙舟邀请赛在金山山阳镇举行_新民社会 - 新民网</td>\n",
              "      <td>龙舟竞渡正端午长三角龙舟邀请赛在金山山阳镇举行_新民社会  新民网</td>\n",
              "      <td>1</td>\n",
              "      <td>\"粽情端午：龙舟竞渡、非遗手工技艺和粽子包制活动丰富多彩\"</td>\n",
              "    </tr>\n",
              "  </tbody>\n",
              "</table>\n",
              "</div>\n",
              "      <button class=\"colab-df-convert\" onclick=\"convertToInteractive('df-3540fe81-4493-4aa6-a7aa-ac66002c39c3')\"\n",
              "              title=\"Convert this dataframe to an interactive table.\"\n",
              "              style=\"display:none;\">\n",
              "        \n",
              "  <svg xmlns=\"http://www.w3.org/2000/svg\" height=\"24px\"viewBox=\"0 0 24 24\"\n",
              "       width=\"24px\">\n",
              "    <path d=\"M0 0h24v24H0V0z\" fill=\"none\"/>\n",
              "    <path d=\"M18.56 5.44l.94 2.06.94-2.06 2.06-.94-2.06-.94-.94-2.06-.94 2.06-2.06.94zm-11 1L8.5 8.5l.94-2.06 2.06-.94-2.06-.94L8.5 2.5l-.94 2.06-2.06.94zm10 10l.94 2.06.94-2.06 2.06-.94-2.06-.94-.94-2.06-.94 2.06-2.06.94z\"/><path d=\"M17.41 7.96l-1.37-1.37c-.4-.4-.92-.59-1.43-.59-.52 0-1.04.2-1.43.59L10.3 9.45l-7.72 7.72c-.78.78-.78 2.05 0 2.83L4 21.41c.39.39.9.59 1.41.59.51 0 1.02-.2 1.41-.59l7.78-7.78 2.81-2.81c.8-.78.8-2.07 0-2.86zM5.41 20L4 18.59l7.72-7.72 1.47 1.35L5.41 20z\"/>\n",
              "  </svg>\n",
              "      </button>\n",
              "      \n",
              "  <style>\n",
              "    .colab-df-container {\n",
              "      display:flex;\n",
              "      flex-wrap:wrap;\n",
              "      gap: 12px;\n",
              "    }\n",
              "\n",
              "    .colab-df-convert {\n",
              "      background-color: #E8F0FE;\n",
              "      border: none;\n",
              "      border-radius: 50%;\n",
              "      cursor: pointer;\n",
              "      display: none;\n",
              "      fill: #1967D2;\n",
              "      height: 32px;\n",
              "      padding: 0 0 0 0;\n",
              "      width: 32px;\n",
              "    }\n",
              "\n",
              "    .colab-df-convert:hover {\n",
              "      background-color: #E2EBFA;\n",
              "      box-shadow: 0px 1px 2px rgba(60, 64, 67, 0.3), 0px 1px 3px 1px rgba(60, 64, 67, 0.15);\n",
              "      fill: #174EA6;\n",
              "    }\n",
              "\n",
              "    [theme=dark] .colab-df-convert {\n",
              "      background-color: #3B4455;\n",
              "      fill: #D2E3FC;\n",
              "    }\n",
              "\n",
              "    [theme=dark] .colab-df-convert:hover {\n",
              "      background-color: #434B5C;\n",
              "      box-shadow: 0px 1px 3px 1px rgba(0, 0, 0, 0.15);\n",
              "      filter: drop-shadow(0px 1px 2px rgba(0, 0, 0, 0.3));\n",
              "      fill: #FFFFFF;\n",
              "    }\n",
              "  </style>\n",
              "\n",
              "      <script>\n",
              "        const buttonEl =\n",
              "          document.querySelector('#df-3540fe81-4493-4aa6-a7aa-ac66002c39c3 button.colab-df-convert');\n",
              "        buttonEl.style.display =\n",
              "          google.colab.kernel.accessAllowed ? 'block' : 'none';\n",
              "\n",
              "        async function convertToInteractive(key) {\n",
              "          const element = document.querySelector('#df-3540fe81-4493-4aa6-a7aa-ac66002c39c3');\n",
              "          const dataTable =\n",
              "            await google.colab.kernel.invokeFunction('convertToInteractive',\n",
              "                                                     [key], {});\n",
              "          if (!dataTable) return;\n",
              "\n",
              "          const docLinkHtml = 'Like what you see? Visit the ' +\n",
              "            '<a target=\"_blank\" href=https://colab.research.google.com/notebooks/data_table.ipynb>data table notebook</a>'\n",
              "            + ' to learn more about interactive tables.';\n",
              "          element.innerHTML = '';\n",
              "          dataTable['output_type'] = 'display_data';\n",
              "          await google.colab.output.renderOutput(dataTable, element);\n",
              "          const docLink = document.createElement('div');\n",
              "          docLink.innerHTML = docLinkHtml;\n",
              "          element.appendChild(docLink);\n",
              "        }\n",
              "      </script>\n",
              "    </div>\n",
              "  </div>\n",
              "  "
            ]
          },
          "metadata": {}
        }
      ],
      "source": [
        "c = 1\n",
        "with pd.option_context(\"display.max_colwidth\", None):\n",
        "    print(df.query(f\"cluster == {c}\").topic_title.values[0])\n",
        "    display(df.query(f\"cluster == {c}\").head())"
      ]
    }
  ],
  "metadata": {
    "kernelspec": {
      "display_name": ".venv",
      "language": "python",
      "name": "python3"
    },
    "language_info": {
      "codemirror_mode": {
        "name": "ipython",
        "version": 3
      },
      "file_extension": ".py",
      "mimetype": "text/x-python",
      "name": "python",
      "nbconvert_exporter": "python",
      "pygments_lexer": "ipython3",
      "version": "3.10.4"
    },
    "orig_nbformat": 4,
    "colab": {
      "provenance": [],
      "include_colab_link": true
    }
  },
  "nbformat": 4,
  "nbformat_minor": 0
}