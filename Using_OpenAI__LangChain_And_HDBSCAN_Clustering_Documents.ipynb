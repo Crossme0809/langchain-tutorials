{
  "cells": [
    {
      "cell_type": "markdown",
      "metadata": {
        "id": "view-in-github",
        "colab_type": "text"
      },
      "source": [
        "<a href=\"https://colab.research.google.com/github/Crossme0809/langchain-tutorials/blob/main/Using_OpenAI__LangChain_And_HDBSCAN_Clustering_Documents.ipynb\" target=\"_parent\"><img src=\"https://colab.research.google.com/assets/colab-badge.svg\" alt=\"Open In Colab\"/></a>"
      ]
    },
    {
      "cell_type": "code",
      "source": [
        "!python3.10 --version"
      ],
      "metadata": {
        "colab": {
          "base_uri": "https://localhost:8080/"
        },
        "id": "GNgna6Mcr-f8",
        "outputId": "2d2c7f13-5254-4dd9-f34c-18a015879507"
      },
      "execution_count": 5,
      "outputs": [
        {
          "output_type": "stream",
          "name": "stdout",
          "text": [
            "Python 3.10.12\n"
          ]
        }
      ]
    },
    {
      "cell_type": "markdown",
      "source": [
        "## **安装依赖**"
      ],
      "metadata": {
        "id": "7tqCm0t9sifX"
      }
    },
    {
      "cell_type": "code",
      "source": [
        "%pip install -r requirements.txt"
      ],
      "metadata": {
        "id": "Cool57g7sVmF"
      },
      "execution_count": null,
      "outputs": []
    },
    {
      "cell_type": "code",
      "execution_count": 18,
      "metadata": {
        "colab": {
          "base_uri": "https://localhost:8080/"
        },
        "id": "56denEvKvJZS",
        "outputId": "d5313828-35c8-4557-fcfb-66be1b7a2520"
      },
      "outputs": [
        {
          "output_type": "execute_result",
          "data": {
            "text/plain": [
              "True"
            ]
          },
          "metadata": {},
          "execution_count": 18
        }
      ],
      "source": [
        "import os\n",
        "\n",
        "import hdbscan\n",
        "import pandas as pd\n",
        "\n",
        "from langchain import LLMChain\n",
        "from langchain.chat_models import ChatOpenAI\n",
        "from langchain.embeddings.openai import OpenAIEmbeddings\n",
        "from langchain.prompts.chat import (\n",
        "    ChatPromptTemplate,\n",
        "    SystemMessagePromptTemplate,\n",
        "    HumanMessagePromptTemplate,\n",
        ")\n",
        "from newsapi import NewsApiClient\n",
        "\n",
        "from dotenv import load_dotenv\n",
        "\n",
        "load_dotenv()"
      ]
    },
    {
      "cell_type": "markdown",
      "metadata": {
        "id": "v7mK8pQvvJZW"
      },
      "source": [
        "\n",
        "## 从相关来源获得10篇新闻报道（因为接口限速原因，这里演示10条）"
      ]
    },
    {
      "cell_type": "code",
      "execution_count": 29,
      "metadata": {
        "id": "AdY8rR8YvJZY"
      },
      "outputs": [],
      "source": [
        "newsapi = NewsApiClient(api_key=os.getenv(\"NEWSAPI_API_KEY\"))\n",
        "sources_1 = [\n",
        "    \"the-washington-post\",\n",
        "    \"the-wall-street-journal\",\n",
        "    \"business-insider\",\n",
        "]\n",
        "sources_2 = [\n",
        "    \"google-news\"\n",
        "]"
      ]
    },
    {
      "cell_type": "code",
      "execution_count": 30,
      "metadata": {
        "id": "xVB0xTM1vJZZ"
      },
      "outputs": [],
      "source": [
        "recent_articles = []\n",
        "for source in [sources_1, sources_2]:\n",
        "    recent_articles.extend(newsapi.get_everything(\n",
        "        sources=\",\".join(source),\n",
        "        language=\"zh\",\n",
        "        page_size=50\n",
        "    )[\"articles\"])"
      ]
    },
    {
      "cell_type": "code",
      "source": [
        "print(recent_articles)"
      ],
      "metadata": {
        "id": "VU7xr4GNyzR0"
      },
      "execution_count": null,
      "outputs": []
    },
    {
      "cell_type": "markdown",
      "metadata": {
        "id": "tHvIf_CjvJZZ"
      },
      "source": [
        "## 生成新闻文章的嵌入向量"
      ]
    },
    {
      "cell_type": "code",
      "execution_count": 32,
      "metadata": {
        "id": "xXZjH9DsvJZa"
      },
      "outputs": [],
      "source": [
        "docs = [\n",
        "    a[\"title\"] + \"\\n\\n\" + (a[\"description\"] or \"\")\n",
        "    for a in recent_articles\n",
        "]"
      ]
    },
    {
      "cell_type": "code",
      "execution_count": 33,
      "metadata": {
        "id": "qNW0eB9uvJZa"
      },
      "outputs": [],
      "source": [
        "embeddings = OpenAIEmbeddings(chunk_size=1000).embed_documents(docs)"
      ]
    },
    {
      "cell_type": "markdown",
      "metadata": {
        "id": "UDU4gksRvJZa"
      },
      "source": [
        "## 对文件进行聚类，并将结果存储在一个 dataframe 中"
      ]
    },
    {
      "cell_type": "code",
      "execution_count": 34,
      "metadata": {
        "id": "lUMMPJz1vJZb"
      },
      "outputs": [],
      "source": [
        "hdb = hdbscan.HDBSCAN(gen_min_span_tree=True, min_samples=3, min_cluster_size=3).fit(embeddings)"
      ]
    },
    {
      "cell_type": "code",
      "execution_count": 35,
      "metadata": {
        "id": "FjTBbPYFvJZb"
      },
      "outputs": [],
      "source": [
        "df = pd.DataFrame({\n",
        "    \"title\": [article[\"title\"] for article in recent_articles],\n",
        "    \"description\": [article[\"description\"] for article in recent_articles],\n",
        "    \"cluster\": hdb.labels_,\n",
        "})\n",
        "df = df.query(\"cluster != -1\") # 删除不在群集中的文档"
      ]
    },
    {
      "cell_type": "markdown",
      "metadata": {
        "id": "mAAqX_yyvJZc"
      },
      "source": [
        "## 从每个聚类的文件中创建聚类主题"
      ]
    },
    {
      "cell_type": "code",
      "execution_count": 36,
      "metadata": {
        "id": "vqqrC-EZvJZc"
      },
      "outputs": [],
      "source": [
        "\n",
        "\n",
        "\n",
        "def get_prompt():\n",
        "    system_template = \"你是一位记者专家。你要帮我为新闻文章写一个引人注目的主题标题。\"\n",
        "    human_template = \"使用以下文章，写一个能概括这些文章的主题标题。\\n\\nARTICLES:{articles}\\n\\nTOPIC TITLE:\"\n",
        "\n",
        "    return ChatPromptTemplate(\n",
        "        messages=[\n",
        "            SystemMessagePromptTemplate.from_template(system_template),\n",
        "            HumanMessagePromptTemplate.from_template(human_template),\n",
        "        ],\n",
        "        input_variables=[\"articles\"],\n",
        "    )\n",
        "\n",
        "\n",
        "articles_str = \"\\n\\n\".join(\n",
        "    [article[\"title\"] + \"\\n\\n\" + (article[\"description\"] or \"\") for article in recent_articles]\n",
        ")\n",
        "\n",
        "prompt = get_prompt()\n",
        "\n",
        "for c in df.cluster.unique():\n",
        "    chain = LLMChain(\n",
        "        llm=ChatOpenAI(temperature=0, model_name=\"gpt-3.5-turbo-0613\"), prompt=prompt, verbose=False\n",
        "    )\n",
        "    articles_str = \"\\n\".join(\n",
        "        [\n",
        "            f\"{article['title']}\\n{article['description']}\\n\"\n",
        "            for article in df.query(f\"cluster == {c}\").to_dict(orient=\"records\")\n",
        "        ]\n",
        "    )\n",
        "    result = chain.run(\n",
        "        {\n",
        "            \"articles\": articles_str,\n",
        "        }\n",
        "    )\n",
        "    df.loc[df.cluster == c, \"topic_title\"] = result"
      ]
    },
    {
      "cell_type": "code",
      "execution_count": 41,
      "metadata": {
        "colab": {
          "base_uri": "https://localhost:8080/",
          "height": 355
        },
        "id": "fV2OgrYQvJZc",
        "outputId": "40ec4025-89c1-4afc-e361-fac63510e6b4"
      },
      "outputs": [
        {
          "output_type": "stream",
          "name": "stdout",
          "text": [
            "\"粽情端午：龙舟竞渡、非遗手工技艺和粽子包制活动丰富多彩\"\n"
          ]
        },
        {
          "output_type": "display_data",
          "data": {
            "text/plain": [
              "                                             title  \\\n",
              "11               龙舟竞渡华亭湖！松江区第十三届端午龙舟赛上午开赛_郊野 - 新民网   \n",
              "17           端午假期首日长三角铁路迎来客流高峰预计发送旅客340万人次 - 无锡新传媒   \n",
              "19  看演出体验非遗手工技艺北京西城端午活动精彩纷呈 - beijing.qianlong.com   \n",
              "24               《颂·黄钟大吕》在国家大剧院音乐厅上演 - China Daily   \n",
              "27              龙舟竞渡正端午长三角龙舟邀请赛在金山山阳镇举行_新民社会 - 新民网   \n",
              "\n",
              "                                      description  cluster  \\\n",
              "11               龙舟竞渡华亭湖！松江区第十三届端午龙舟赛上午开赛_郊野  新民网        1   \n",
              "17           端午假期首日长三角铁路迎来客流高峰预计发送旅客340万人次  无锡新传媒        1   \n",
              "19  看演出体验非遗手工技艺北京西城端午活动精彩纷呈  beijing.qianlong.com        1   \n",
              "24               《颂·黄钟大吕》在国家大剧院音乐厅上演  China Daily        1   \n",
              "27              龙舟竞渡正端午长三角龙舟邀请赛在金山山阳镇举行_新民社会  新民网        1   \n",
              "\n",
              "                      topic_title  \n",
              "11  \"粽情端午：龙舟竞渡、非遗手工技艺和粽子包制活动丰富多彩\"  \n",
              "17  \"粽情端午：龙舟竞渡、非遗手工技艺和粽子包制活动丰富多彩\"  \n",
              "19  \"粽情端午：龙舟竞渡、非遗手工技艺和粽子包制活动丰富多彩\"  \n",
              "24  \"粽情端午：龙舟竞渡、非遗手工技艺和粽子包制活动丰富多彩\"  \n",
              "27  \"粽情端午：龙舟竞渡、非遗手工技艺和粽子包制活动丰富多彩\"  "
            ],
            "text/html": [
              "\n",
              "  <div id=\"df-3540fe81-4493-4aa6-a7aa-ac66002c39c3\">\n",
              "    <div class=\"colab-df-container\">\n",
              "      <div>\n",
              "<style scoped>\n",
              "    .dataframe tbody tr th:only-of-type {\n",
              "        vertical-align: middle;\n",
              "    }\n",
              "\n",
              "    .dataframe tbody tr th {\n",
              "        vertical-align: top;\n",
              "    }\n",
              "\n",
              "    .dataframe thead th {\n",
              "        text-align: right;\n",
              "    }\n",
              "</style>\n",
              "<table border=\"1\" class=\"dataframe\">\n",
              "  <thead>\n",
              "    <tr style=\"text-align: right;\">\n",
              "      <th></th>\n",
              "      <th>title</th>\n",
              "      <th>description</th>\n",
              "      <th>cluster</th>\n",
              "      <th>topic_title</th>\n",
              "    </tr>\n",
              "  </thead>\n",
              "  <tbody>\n",
              "    <tr>\n",
              "      <th>11</th>\n",
              "      <td>龙舟竞渡华亭湖！松江区第十三届端午龙舟赛上午开赛_郊野 - 新民网</td>\n",
              "      <td>龙舟竞渡华亭湖！松江区第十三届端午龙舟赛上午开赛_郊野  新民网</td>\n",
              "      <td>1</td>\n",
              "      <td>\"粽情端午：龙舟竞渡、非遗手工技艺和粽子包制活动丰富多彩\"</td>\n",
              "    </tr>\n",
              "    <tr>\n",
              "      <th>17</th>\n",
              "      <td>端午假期首日长三角铁路迎来客流高峰预计发送旅客340万人次 - 无锡新传媒</td>\n",
              "      <td>端午假期首日长三角铁路迎来客流高峰预计发送旅客340万人次  无锡新传媒</td>\n",
              "      <td>1</td>\n",
              "      <td>\"粽情端午：龙舟竞渡、非遗手工技艺和粽子包制活动丰富多彩\"</td>\n",
              "    </tr>\n",
              "    <tr>\n",
              "      <th>19</th>\n",
              "      <td>看演出体验非遗手工技艺北京西城端午活动精彩纷呈 - beijing.qianlong.com</td>\n",
              "      <td>看演出体验非遗手工技艺北京西城端午活动精彩纷呈  beijing.qianlong.com</td>\n",
              "      <td>1</td>\n",
              "      <td>\"粽情端午：龙舟竞渡、非遗手工技艺和粽子包制活动丰富多彩\"</td>\n",
              "    </tr>\n",
              "    <tr>\n",
              "      <th>24</th>\n",
              "      <td>《颂·黄钟大吕》在国家大剧院音乐厅上演 - China Daily</td>\n",
              "      <td>《颂·黄钟大吕》在国家大剧院音乐厅上演  China Daily</td>\n",
              "      <td>1</td>\n",
              "      <td>\"粽情端午：龙舟竞渡、非遗手工技艺和粽子包制活动丰富多彩\"</td>\n",
              "    </tr>\n",
              "    <tr>\n",
              "      <th>27</th>\n",
              "      <td>龙舟竞渡正端午长三角龙舟邀请赛在金山山阳镇举行_新民社会 - 新民网</td>\n",
              "      <td>龙舟竞渡正端午长三角龙舟邀请赛在金山山阳镇举行_新民社会  新民网</td>\n",
              "      <td>1</td>\n",
              "      <td>\"粽情端午：龙舟竞渡、非遗手工技艺和粽子包制活动丰富多彩\"</td>\n",
              "    </tr>\n",
              "  </tbody>\n",
              "</table>\n",
              "</div>\n",
              "      <button class=\"colab-df-convert\" onclick=\"convertToInteractive('df-3540fe81-4493-4aa6-a7aa-ac66002c39c3')\"\n",
              "              title=\"Convert this dataframe to an interactive table.\"\n",
              "              style=\"display:none;\">\n",
              "        \n",
              "  <svg xmlns=\"http://www.w3.org/2000/svg\" height=\"24px\"viewBox=\"0 0 24 24\"\n",
              "       width=\"24px\">\n",
              "    <path d=\"M0 0h24v24H0V0z\" fill=\"none\"/>\n",
              "    <path d=\"M18.56 5.44l.94 2.06.94-2.06 2.06-.94-2.06-.94-.94-2.06-.94 2.06-2.06.94zm-11 1L8.5 8.5l.94-2.06 2.06-.94-2.06-.94L8.5 2.5l-.94 2.06-2.06.94zm10 10l.94 2.06.94-2.06 2.06-.94-2.06-.94-.94-2.06-.94 2.06-2.06.94z\"/><path d=\"M17.41 7.96l-1.37-1.37c-.4-.4-.92-.59-1.43-.59-.52 0-1.04.2-1.43.59L10.3 9.45l-7.72 7.72c-.78.78-.78 2.05 0 2.83L4 21.41c.39.39.9.59 1.41.59.51 0 1.02-.2 1.41-.59l7.78-7.78 2.81-2.81c.8-.78.8-2.07 0-2.86zM5.41 20L4 18.59l7.72-7.72 1.47 1.35L5.41 20z\"/>\n",
              "  </svg>\n",
              "      </button>\n",
              "      \n",
              "  <style>\n",
              "    .colab-df-container {\n",
              "      display:flex;\n",
              "      flex-wrap:wrap;\n",
              "      gap: 12px;\n",
              "    }\n",
              "\n",
              "    .colab-df-convert {\n",
              "      background-color: #E8F0FE;\n",
              "      border: none;\n",
              "      border-radius: 50%;\n",
              "      cursor: pointer;\n",
              "      display: none;\n",
              "      fill: #1967D2;\n",
              "      height: 32px;\n",
              "      padding: 0 0 0 0;\n",
              "      width: 32px;\n",
              "    }\n",
              "\n",
              "    .colab-df-convert:hover {\n",
              "      background-color: #E2EBFA;\n",
              "      box-shadow: 0px 1px 2px rgba(60, 64, 67, 0.3), 0px 1px 3px 1px rgba(60, 64, 67, 0.15);\n",
              "      fill: #174EA6;\n",
              "    }\n",
              "\n",
              "    [theme=dark] .colab-df-convert {\n",
              "      background-color: #3B4455;\n",
              "      fill: #D2E3FC;\n",
              "    }\n",
              "\n",
              "    [theme=dark] .colab-df-convert:hover {\n",
              "      background-color: #434B5C;\n",
              "      box-shadow: 0px 1px 3px 1px rgba(0, 0, 0, 0.15);\n",
              "      filter: drop-shadow(0px 1px 2px rgba(0, 0, 0, 0.3));\n",
              "      fill: #FFFFFF;\n",
              "    }\n",
              "  </style>\n",
              "\n",
              "      <script>\n",
              "        const buttonEl =\n",
              "          document.querySelector('#df-3540fe81-4493-4aa6-a7aa-ac66002c39c3 button.colab-df-convert');\n",
              "        buttonEl.style.display =\n",
              "          google.colab.kernel.accessAllowed ? 'block' : 'none';\n",
              "\n",
              "        async function convertToInteractive(key) {\n",
              "          const element = document.querySelector('#df-3540fe81-4493-4aa6-a7aa-ac66002c39c3');\n",
              "          const dataTable =\n",
              "            await google.colab.kernel.invokeFunction('convertToInteractive',\n",
              "                                                     [key], {});\n",
              "          if (!dataTable) return;\n",
              "\n",
              "          const docLinkHtml = 'Like what you see? Visit the ' +\n",
              "            '<a target=\"_blank\" href=https://colab.research.google.com/notebooks/data_table.ipynb>data table notebook</a>'\n",
              "            + ' to learn more about interactive tables.';\n",
              "          element.innerHTML = '';\n",
              "          dataTable['output_type'] = 'display_data';\n",
              "          await google.colab.output.renderOutput(dataTable, element);\n",
              "          const docLink = document.createElement('div');\n",
              "          docLink.innerHTML = docLinkHtml;\n",
              "          element.appendChild(docLink);\n",
              "        }\n",
              "      </script>\n",
              "    </div>\n",
              "  </div>\n",
              "  "
            ]
          },
          "metadata": {}
        }
      ],
      "source": [
        "c = 1\n",
        "with pd.option_context(\"display.max_colwidth\", None):\n",
        "    print(df.query(f\"cluster == {c}\").topic_title.values[0])\n",
        "    display(df.query(f\"cluster == {c}\").head())"
      ]
    }
  ],
  "metadata": {
    "kernelspec": {
      "display_name": ".venv",
      "language": "python",
      "name": "python3"
    },
    "language_info": {
      "codemirror_mode": {
        "name": "ipython",
        "version": 3
      },
      "file_extension": ".py",
      "mimetype": "text/x-python",
      "name": "python",
      "nbconvert_exporter": "python",
      "pygments_lexer": "ipython3",
      "version": "3.10.4"
    },
    "orig_nbformat": 4,
    "colab": {
      "provenance": [],
      "include_colab_link": true
    }
  },
  "nbformat": 4,
  "nbformat_minor": 0
}